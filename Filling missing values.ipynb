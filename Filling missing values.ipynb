{
 "cells": [
  {
   "cell_type": "markdown",
   "id": "ec9f2f3c",
   "metadata": {},
   "source": [
    "### Filling missing values"
   ]
  },
  {
   "cell_type": "code",
   "execution_count": 5,
   "id": "62a8c70e",
   "metadata": {},
   "outputs": [],
   "source": [
    "import pandas as pd\n",
    "import numpy as np\n",
    "import warnings\n",
    "warnings.filterwarnings('ignore')"
   ]
  },
  {
   "cell_type": "code",
   "execution_count": 6,
   "id": "4bcd7d7a",
   "metadata": {},
   "outputs": [],
   "source": [
    "data = pd.read_excel('./fill_na.xlsx')"
   ]
  },
  {
   "cell_type": "code",
   "execution_count": 7,
   "id": "08c3140b",
   "metadata": {},
   "outputs": [
    {
     "data": {
      "text/html": [
       "<div>\n",
       "<style scoped>\n",
       "    .dataframe tbody tr th:only-of-type {\n",
       "        vertical-align: middle;\n",
       "    }\n",
       "\n",
       "    .dataframe tbody tr th {\n",
       "        vertical-align: top;\n",
       "    }\n",
       "\n",
       "    .dataframe thead th {\n",
       "        text-align: right;\n",
       "    }\n",
       "</style>\n",
       "<table border=\"1\" class=\"dataframe\">\n",
       "  <thead>\n",
       "    <tr style=\"text-align: right;\">\n",
       "      <th></th>\n",
       "      <th>date</th>\n",
       "      <th>temperature</th>\n",
       "      <th>windSpeed</th>\n",
       "      <th>status</th>\n",
       "    </tr>\n",
       "  </thead>\n",
       "  <tbody>\n",
       "    <tr>\n",
       "      <th>0</th>\n",
       "      <td>2020-05-06</td>\n",
       "      <td>35.6582</td>\n",
       "      <td>10.788378</td>\n",
       "      <td>sunny</td>\n",
       "    </tr>\n",
       "    <tr>\n",
       "      <th>1</th>\n",
       "      <td>2020-05-07</td>\n",
       "      <td>NaN</td>\n",
       "      <td>NaN</td>\n",
       "      <td>NaN</td>\n",
       "    </tr>\n",
       "    <tr>\n",
       "      <th>2</th>\n",
       "      <td>2020-05-08</td>\n",
       "      <td>30.9343</td>\n",
       "      <td>NaN</td>\n",
       "      <td>rainy</td>\n",
       "    </tr>\n",
       "    <tr>\n",
       "      <th>3</th>\n",
       "      <td>2020-05-09</td>\n",
       "      <td>NaN</td>\n",
       "      <td>6.889682</td>\n",
       "      <td>cloudy</td>\n",
       "    </tr>\n",
       "    <tr>\n",
       "      <th>4</th>\n",
       "      <td>2020-05-10</td>\n",
       "      <td>13.9082</td>\n",
       "      <td>19.012990</td>\n",
       "      <td>rainy</td>\n",
       "    </tr>\n",
       "    <tr>\n",
       "      <th>5</th>\n",
       "      <td>2020-05-11</td>\n",
       "      <td>23.9382</td>\n",
       "      <td>NaN</td>\n",
       "      <td>sunny</td>\n",
       "    </tr>\n",
       "  </tbody>\n",
       "</table>\n",
       "</div>"
      ],
      "text/plain": [
       "        date  temperature  windSpeed  status\n",
       "0 2020-05-06      35.6582  10.788378   sunny\n",
       "1 2020-05-07          NaN        NaN     NaN\n",
       "2 2020-05-08      30.9343        NaN   rainy\n",
       "3 2020-05-09          NaN   6.889682  cloudy\n",
       "4 2020-05-10      13.9082  19.012990   rainy\n",
       "5 2020-05-11      23.9382        NaN   sunny"
      ]
     },
     "execution_count": 7,
     "metadata": {},
     "output_type": "execute_result"
    }
   ],
   "source": [
    "data"
   ]
  },
  {
   "cell_type": "markdown",
   "id": "4a073f1b",
   "metadata": {},
   "source": [
    "### Filling all missing values with a common value"
   ]
  },
  {
   "cell_type": "code",
   "execution_count": 8,
   "id": "eea68c5f",
   "metadata": {},
   "outputs": [
    {
     "data": {
      "text/html": [
       "<div>\n",
       "<style scoped>\n",
       "    .dataframe tbody tr th:only-of-type {\n",
       "        vertical-align: middle;\n",
       "    }\n",
       "\n",
       "    .dataframe tbody tr th {\n",
       "        vertical-align: top;\n",
       "    }\n",
       "\n",
       "    .dataframe thead th {\n",
       "        text-align: right;\n",
       "    }\n",
       "</style>\n",
       "<table border=\"1\" class=\"dataframe\">\n",
       "  <thead>\n",
       "    <tr style=\"text-align: right;\">\n",
       "      <th></th>\n",
       "      <th>date</th>\n",
       "      <th>temperature</th>\n",
       "      <th>windSpeed</th>\n",
       "      <th>status</th>\n",
       "    </tr>\n",
       "  </thead>\n",
       "  <tbody>\n",
       "    <tr>\n",
       "      <th>0</th>\n",
       "      <td>2020-05-06</td>\n",
       "      <td>35.6582</td>\n",
       "      <td>10.788378</td>\n",
       "      <td>sunny</td>\n",
       "    </tr>\n",
       "    <tr>\n",
       "      <th>1</th>\n",
       "      <td>2020-05-07</td>\n",
       "      <td>12.0000</td>\n",
       "      <td>12.000000</td>\n",
       "      <td>12</td>\n",
       "    </tr>\n",
       "    <tr>\n",
       "      <th>2</th>\n",
       "      <td>2020-05-08</td>\n",
       "      <td>30.9343</td>\n",
       "      <td>12.000000</td>\n",
       "      <td>rainy</td>\n",
       "    </tr>\n",
       "    <tr>\n",
       "      <th>3</th>\n",
       "      <td>2020-05-09</td>\n",
       "      <td>12.0000</td>\n",
       "      <td>6.889682</td>\n",
       "      <td>cloudy</td>\n",
       "    </tr>\n",
       "    <tr>\n",
       "      <th>4</th>\n",
       "      <td>2020-05-10</td>\n",
       "      <td>13.9082</td>\n",
       "      <td>19.012990</td>\n",
       "      <td>rainy</td>\n",
       "    </tr>\n",
       "    <tr>\n",
       "      <th>5</th>\n",
       "      <td>2020-05-11</td>\n",
       "      <td>23.9382</td>\n",
       "      <td>12.000000</td>\n",
       "      <td>sunny</td>\n",
       "    </tr>\n",
       "  </tbody>\n",
       "</table>\n",
       "</div>"
      ],
      "text/plain": [
       "        date  temperature  windSpeed  status\n",
       "0 2020-05-06      35.6582  10.788378   sunny\n",
       "1 2020-05-07      12.0000  12.000000      12\n",
       "2 2020-05-08      30.9343  12.000000   rainy\n",
       "3 2020-05-09      12.0000   6.889682  cloudy\n",
       "4 2020-05-10      13.9082  19.012990   rainy\n",
       "5 2020-05-11      23.9382  12.000000   sunny"
      ]
     },
     "execution_count": 8,
     "metadata": {},
     "output_type": "execute_result"
    }
   ],
   "source": [
    "data.fillna(12)"
   ]
  },
  {
   "cell_type": "markdown",
   "id": "253e729f",
   "metadata": {},
   "source": [
    "#### adding missing values to individual columns"
   ]
  },
  {
   "cell_type": "code",
   "execution_count": 10,
   "id": "2fa784b9",
   "metadata": {},
   "outputs": [
    {
     "data": {
      "text/html": [
       "<div>\n",
       "<style scoped>\n",
       "    .dataframe tbody tr th:only-of-type {\n",
       "        vertical-align: middle;\n",
       "    }\n",
       "\n",
       "    .dataframe tbody tr th {\n",
       "        vertical-align: top;\n",
       "    }\n",
       "\n",
       "    .dataframe thead th {\n",
       "        text-align: right;\n",
       "    }\n",
       "</style>\n",
       "<table border=\"1\" class=\"dataframe\">\n",
       "  <thead>\n",
       "    <tr style=\"text-align: right;\">\n",
       "      <th></th>\n",
       "      <th>date</th>\n",
       "      <th>temperature</th>\n",
       "      <th>windSpeed</th>\n",
       "      <th>status</th>\n",
       "    </tr>\n",
       "  </thead>\n",
       "  <tbody>\n",
       "    <tr>\n",
       "      <th>0</th>\n",
       "      <td>2020-05-06</td>\n",
       "      <td>35.6582</td>\n",
       "      <td>10.788378</td>\n",
       "      <td>sunny</td>\n",
       "    </tr>\n",
       "    <tr>\n",
       "      <th>1</th>\n",
       "      <td>2020-05-07</td>\n",
       "      <td>20.0000</td>\n",
       "      <td>10.000000</td>\n",
       "      <td>rainy</td>\n",
       "    </tr>\n",
       "    <tr>\n",
       "      <th>2</th>\n",
       "      <td>2020-05-08</td>\n",
       "      <td>30.9343</td>\n",
       "      <td>10.000000</td>\n",
       "      <td>rainy</td>\n",
       "    </tr>\n",
       "    <tr>\n",
       "      <th>3</th>\n",
       "      <td>2020-05-09</td>\n",
       "      <td>20.0000</td>\n",
       "      <td>6.889682</td>\n",
       "      <td>cloudy</td>\n",
       "    </tr>\n",
       "    <tr>\n",
       "      <th>4</th>\n",
       "      <td>2020-05-10</td>\n",
       "      <td>13.9082</td>\n",
       "      <td>19.012990</td>\n",
       "      <td>rainy</td>\n",
       "    </tr>\n",
       "    <tr>\n",
       "      <th>5</th>\n",
       "      <td>2020-05-11</td>\n",
       "      <td>23.9382</td>\n",
       "      <td>10.000000</td>\n",
       "      <td>sunny</td>\n",
       "    </tr>\n",
       "  </tbody>\n",
       "</table>\n",
       "</div>"
      ],
      "text/plain": [
       "        date  temperature  windSpeed  status\n",
       "0 2020-05-06      35.6582  10.788378   sunny\n",
       "1 2020-05-07      20.0000  10.000000   rainy\n",
       "2 2020-05-08      30.9343  10.000000   rainy\n",
       "3 2020-05-09      20.0000   6.889682  cloudy\n",
       "4 2020-05-10      13.9082  19.012990   rainy\n",
       "5 2020-05-11      23.9382  10.000000   sunny"
      ]
     },
     "execution_count": 10,
     "metadata": {},
     "output_type": "execute_result"
    }
   ],
   "source": [
    "data.fillna({'temperature':20,'windSpeed':10,'status':'rainy'})"
   ]
  },
  {
   "cell_type": "markdown",
   "id": "ed059a0b",
   "metadata": {},
   "source": [
    "#### Filling missing values by accessing individual colunms"
   ]
  },
  {
   "cell_type": "code",
   "execution_count": 11,
   "id": "52963573",
   "metadata": {},
   "outputs": [
    {
     "data": {
      "text/plain": [
       "0    35.6582\n",
       "1    21.0000\n",
       "2    30.9343\n",
       "3    21.0000\n",
       "4    13.9082\n",
       "5    23.9382\n",
       "Name: temperature, dtype: float64"
      ]
     },
     "execution_count": 11,
     "metadata": {},
     "output_type": "execute_result"
    }
   ],
   "source": [
    "data.temperature.fillna(21)"
   ]
  },
  {
   "cell_type": "code",
   "execution_count": 12,
   "id": "fa1e33e0",
   "metadata": {},
   "outputs": [
    {
     "data": {
      "text/plain": [
       "0    10.788378\n",
       "1    12.000000\n",
       "2    12.000000\n",
       "3     6.889682\n",
       "4    19.012990\n",
       "5    12.000000\n",
       "Name: windSpeed, dtype: float64"
      ]
     },
     "execution_count": 12,
     "metadata": {},
     "output_type": "execute_result"
    }
   ],
   "source": [
    "data.windSpeed.fillna(12)"
   ]
  },
  {
   "cell_type": "code",
   "execution_count": 13,
   "id": "436dc46f",
   "metadata": {},
   "outputs": [
    {
     "data": {
      "text/plain": [
       "0     sunny\n",
       "1     sunny\n",
       "2     rainy\n",
       "3    cloudy\n",
       "4     rainy\n",
       "5     sunny\n",
       "Name: status, dtype: object"
      ]
     },
     "execution_count": 13,
     "metadata": {},
     "output_type": "execute_result"
    }
   ],
   "source": [
    "data.status.fillna('sunny')"
   ]
  },
  {
   "cell_type": "markdown",
   "id": "e2a859d8",
   "metadata": {},
   "source": [
    "#### Forward fill(row)"
   ]
  },
  {
   "cell_type": "code",
   "execution_count": 14,
   "id": "86e5a854",
   "metadata": {
    "scrolled": true
   },
   "outputs": [
    {
     "data": {
      "text/html": [
       "<div>\n",
       "<style scoped>\n",
       "    .dataframe tbody tr th:only-of-type {\n",
       "        vertical-align: middle;\n",
       "    }\n",
       "\n",
       "    .dataframe tbody tr th {\n",
       "        vertical-align: top;\n",
       "    }\n",
       "\n",
       "    .dataframe thead th {\n",
       "        text-align: right;\n",
       "    }\n",
       "</style>\n",
       "<table border=\"1\" class=\"dataframe\">\n",
       "  <thead>\n",
       "    <tr style=\"text-align: right;\">\n",
       "      <th></th>\n",
       "      <th>date</th>\n",
       "      <th>temperature</th>\n",
       "      <th>windSpeed</th>\n",
       "      <th>status</th>\n",
       "    </tr>\n",
       "  </thead>\n",
       "  <tbody>\n",
       "    <tr>\n",
       "      <th>0</th>\n",
       "      <td>2020-05-06</td>\n",
       "      <td>35.6582</td>\n",
       "      <td>10.788378</td>\n",
       "      <td>sunny</td>\n",
       "    </tr>\n",
       "    <tr>\n",
       "      <th>1</th>\n",
       "      <td>2020-05-07</td>\n",
       "      <td>35.6582</td>\n",
       "      <td>10.788378</td>\n",
       "      <td>sunny</td>\n",
       "    </tr>\n",
       "    <tr>\n",
       "      <th>2</th>\n",
       "      <td>2020-05-08</td>\n",
       "      <td>30.9343</td>\n",
       "      <td>10.788378</td>\n",
       "      <td>rainy</td>\n",
       "    </tr>\n",
       "    <tr>\n",
       "      <th>3</th>\n",
       "      <td>2020-05-09</td>\n",
       "      <td>30.9343</td>\n",
       "      <td>6.889682</td>\n",
       "      <td>cloudy</td>\n",
       "    </tr>\n",
       "    <tr>\n",
       "      <th>4</th>\n",
       "      <td>2020-05-10</td>\n",
       "      <td>13.9082</td>\n",
       "      <td>19.012990</td>\n",
       "      <td>rainy</td>\n",
       "    </tr>\n",
       "    <tr>\n",
       "      <th>5</th>\n",
       "      <td>2020-05-11</td>\n",
       "      <td>23.9382</td>\n",
       "      <td>19.012990</td>\n",
       "      <td>sunny</td>\n",
       "    </tr>\n",
       "  </tbody>\n",
       "</table>\n",
       "</div>"
      ],
      "text/plain": [
       "        date  temperature  windSpeed  status\n",
       "0 2020-05-06      35.6582  10.788378   sunny\n",
       "1 2020-05-07      35.6582  10.788378   sunny\n",
       "2 2020-05-08      30.9343  10.788378   rainy\n",
       "3 2020-05-09      30.9343   6.889682  cloudy\n",
       "4 2020-05-10      13.9082  19.012990   rainy\n",
       "5 2020-05-11      23.9382  19.012990   sunny"
      ]
     },
     "execution_count": 14,
     "metadata": {},
     "output_type": "execute_result"
    }
   ],
   "source": [
    "data.fillna(method=\"ffill\")"
   ]
  },
  {
   "cell_type": "markdown",
   "id": "1505787d",
   "metadata": {},
   "source": [
    "#### Backward fill(row)"
   ]
  },
  {
   "cell_type": "code",
   "execution_count": 15,
   "id": "c92b89cc",
   "metadata": {},
   "outputs": [
    {
     "data": {
      "text/html": [
       "<div>\n",
       "<style scoped>\n",
       "    .dataframe tbody tr th:only-of-type {\n",
       "        vertical-align: middle;\n",
       "    }\n",
       "\n",
       "    .dataframe tbody tr th {\n",
       "        vertical-align: top;\n",
       "    }\n",
       "\n",
       "    .dataframe thead th {\n",
       "        text-align: right;\n",
       "    }\n",
       "</style>\n",
       "<table border=\"1\" class=\"dataframe\">\n",
       "  <thead>\n",
       "    <tr style=\"text-align: right;\">\n",
       "      <th></th>\n",
       "      <th>date</th>\n",
       "      <th>temperature</th>\n",
       "      <th>windSpeed</th>\n",
       "      <th>status</th>\n",
       "    </tr>\n",
       "  </thead>\n",
       "  <tbody>\n",
       "    <tr>\n",
       "      <th>0</th>\n",
       "      <td>2020-05-06</td>\n",
       "      <td>35.6582</td>\n",
       "      <td>10.788378</td>\n",
       "      <td>sunny</td>\n",
       "    </tr>\n",
       "    <tr>\n",
       "      <th>1</th>\n",
       "      <td>2020-05-07</td>\n",
       "      <td>30.9343</td>\n",
       "      <td>6.889682</td>\n",
       "      <td>rainy</td>\n",
       "    </tr>\n",
       "    <tr>\n",
       "      <th>2</th>\n",
       "      <td>2020-05-08</td>\n",
       "      <td>30.9343</td>\n",
       "      <td>6.889682</td>\n",
       "      <td>rainy</td>\n",
       "    </tr>\n",
       "    <tr>\n",
       "      <th>3</th>\n",
       "      <td>2020-05-09</td>\n",
       "      <td>13.9082</td>\n",
       "      <td>6.889682</td>\n",
       "      <td>cloudy</td>\n",
       "    </tr>\n",
       "    <tr>\n",
       "      <th>4</th>\n",
       "      <td>2020-05-10</td>\n",
       "      <td>13.9082</td>\n",
       "      <td>19.012990</td>\n",
       "      <td>rainy</td>\n",
       "    </tr>\n",
       "    <tr>\n",
       "      <th>5</th>\n",
       "      <td>2020-05-11</td>\n",
       "      <td>23.9382</td>\n",
       "      <td>NaN</td>\n",
       "      <td>sunny</td>\n",
       "    </tr>\n",
       "  </tbody>\n",
       "</table>\n",
       "</div>"
      ],
      "text/plain": [
       "        date  temperature  windSpeed  status\n",
       "0 2020-05-06      35.6582  10.788378   sunny\n",
       "1 2020-05-07      30.9343   6.889682   rainy\n",
       "2 2020-05-08      30.9343   6.889682   rainy\n",
       "3 2020-05-09      13.9082   6.889682  cloudy\n",
       "4 2020-05-10      13.9082  19.012990   rainy\n",
       "5 2020-05-11      23.9382        NaN   sunny"
      ]
     },
     "execution_count": 15,
     "metadata": {},
     "output_type": "execute_result"
    }
   ],
   "source": [
    "data.fillna(method=\"bfill\")"
   ]
  },
  {
   "cell_type": "markdown",
   "id": "19f1f15d",
   "metadata": {},
   "source": [
    "#### Forward fill(column)"
   ]
  },
  {
   "cell_type": "code",
   "execution_count": 17,
   "id": "20a9461c",
   "metadata": {},
   "outputs": [
    {
     "data": {
      "text/html": [
       "<div>\n",
       "<style scoped>\n",
       "    .dataframe tbody tr th:only-of-type {\n",
       "        vertical-align: middle;\n",
       "    }\n",
       "\n",
       "    .dataframe tbody tr th {\n",
       "        vertical-align: top;\n",
       "    }\n",
       "\n",
       "    .dataframe thead th {\n",
       "        text-align: right;\n",
       "    }\n",
       "</style>\n",
       "<table border=\"1\" class=\"dataframe\">\n",
       "  <thead>\n",
       "    <tr style=\"text-align: right;\">\n",
       "      <th></th>\n",
       "      <th>date</th>\n",
       "      <th>temperature</th>\n",
       "      <th>windSpeed</th>\n",
       "      <th>status</th>\n",
       "    </tr>\n",
       "  </thead>\n",
       "  <tbody>\n",
       "    <tr>\n",
       "      <th>0</th>\n",
       "      <td>2020-05-06</td>\n",
       "      <td>35.6582</td>\n",
       "      <td>10.788378</td>\n",
       "      <td>sunny</td>\n",
       "    </tr>\n",
       "    <tr>\n",
       "      <th>1</th>\n",
       "      <td>2020-05-07</td>\n",
       "      <td>2020-05-07 00:00:00</td>\n",
       "      <td>2020-05-07 00:00:00</td>\n",
       "      <td>2020-05-07 00:00:00</td>\n",
       "    </tr>\n",
       "    <tr>\n",
       "      <th>2</th>\n",
       "      <td>2020-05-08</td>\n",
       "      <td>30.9343</td>\n",
       "      <td>30.9343</td>\n",
       "      <td>rainy</td>\n",
       "    </tr>\n",
       "    <tr>\n",
       "      <th>3</th>\n",
       "      <td>2020-05-09</td>\n",
       "      <td>2020-05-09 00:00:00</td>\n",
       "      <td>6.889682</td>\n",
       "      <td>cloudy</td>\n",
       "    </tr>\n",
       "    <tr>\n",
       "      <th>4</th>\n",
       "      <td>2020-05-10</td>\n",
       "      <td>13.9082</td>\n",
       "      <td>19.01299</td>\n",
       "      <td>rainy</td>\n",
       "    </tr>\n",
       "    <tr>\n",
       "      <th>5</th>\n",
       "      <td>2020-05-11</td>\n",
       "      <td>23.9382</td>\n",
       "      <td>23.9382</td>\n",
       "      <td>sunny</td>\n",
       "    </tr>\n",
       "  </tbody>\n",
       "</table>\n",
       "</div>"
      ],
      "text/plain": [
       "        date          temperature            windSpeed               status\n",
       "0 2020-05-06              35.6582            10.788378                sunny\n",
       "1 2020-05-07  2020-05-07 00:00:00  2020-05-07 00:00:00  2020-05-07 00:00:00\n",
       "2 2020-05-08              30.9343              30.9343                rainy\n",
       "3 2020-05-09  2020-05-09 00:00:00             6.889682               cloudy\n",
       "4 2020-05-10              13.9082             19.01299                rainy\n",
       "5 2020-05-11              23.9382              23.9382                sunny"
      ]
     },
     "execution_count": 17,
     "metadata": {},
     "output_type": "execute_result"
    }
   ],
   "source": [
    "data.fillna(method=\"ffill\",axis=\"columns\")"
   ]
  },
  {
   "cell_type": "markdown",
   "id": "b047487e",
   "metadata": {},
   "source": [
    "#### Backward fill(column)"
   ]
  },
  {
   "cell_type": "code",
   "execution_count": 18,
   "id": "247936f9",
   "metadata": {},
   "outputs": [
    {
     "data": {
      "text/html": [
       "<div>\n",
       "<style scoped>\n",
       "    .dataframe tbody tr th:only-of-type {\n",
       "        vertical-align: middle;\n",
       "    }\n",
       "\n",
       "    .dataframe tbody tr th {\n",
       "        vertical-align: top;\n",
       "    }\n",
       "\n",
       "    .dataframe thead th {\n",
       "        text-align: right;\n",
       "    }\n",
       "</style>\n",
       "<table border=\"1\" class=\"dataframe\">\n",
       "  <thead>\n",
       "    <tr style=\"text-align: right;\">\n",
       "      <th></th>\n",
       "      <th>date</th>\n",
       "      <th>temperature</th>\n",
       "      <th>windSpeed</th>\n",
       "      <th>status</th>\n",
       "    </tr>\n",
       "  </thead>\n",
       "  <tbody>\n",
       "    <tr>\n",
       "      <th>0</th>\n",
       "      <td>2020-05-06</td>\n",
       "      <td>35.6582</td>\n",
       "      <td>10.788378</td>\n",
       "      <td>sunny</td>\n",
       "    </tr>\n",
       "    <tr>\n",
       "      <th>1</th>\n",
       "      <td>2020-05-07</td>\n",
       "      <td>NaT</td>\n",
       "      <td>NaT</td>\n",
       "      <td>NaT</td>\n",
       "    </tr>\n",
       "    <tr>\n",
       "      <th>2</th>\n",
       "      <td>2020-05-08</td>\n",
       "      <td>30.9343</td>\n",
       "      <td>rainy</td>\n",
       "      <td>rainy</td>\n",
       "    </tr>\n",
       "    <tr>\n",
       "      <th>3</th>\n",
       "      <td>2020-05-09</td>\n",
       "      <td>6.889682</td>\n",
       "      <td>6.889682</td>\n",
       "      <td>cloudy</td>\n",
       "    </tr>\n",
       "    <tr>\n",
       "      <th>4</th>\n",
       "      <td>2020-05-10</td>\n",
       "      <td>13.9082</td>\n",
       "      <td>19.01299</td>\n",
       "      <td>rainy</td>\n",
       "    </tr>\n",
       "    <tr>\n",
       "      <th>5</th>\n",
       "      <td>2020-05-11</td>\n",
       "      <td>23.9382</td>\n",
       "      <td>sunny</td>\n",
       "      <td>sunny</td>\n",
       "    </tr>\n",
       "  </tbody>\n",
       "</table>\n",
       "</div>"
      ],
      "text/plain": [
       "        date temperature  windSpeed  status\n",
       "0 2020-05-06     35.6582  10.788378   sunny\n",
       "1 2020-05-07         NaT        NaT     NaT\n",
       "2 2020-05-08     30.9343      rainy   rainy\n",
       "3 2020-05-09    6.889682   6.889682  cloudy\n",
       "4 2020-05-10     13.9082   19.01299   rainy\n",
       "5 2020-05-11     23.9382      sunny   sunny"
      ]
     },
     "execution_count": 18,
     "metadata": {},
     "output_type": "execute_result"
    }
   ],
   "source": [
    "data.fillna(method=\"bfill\",axis=\"columns\")"
   ]
  },
  {
   "cell_type": "markdown",
   "id": "2e5d0ff7",
   "metadata": {},
   "source": [
    "#### Limiting forward fill/backward fill"
   ]
  },
  {
   "cell_type": "code",
   "execution_count": 19,
   "id": "67d6c61a",
   "metadata": {},
   "outputs": [
    {
     "data": {
      "text/html": [
       "<div>\n",
       "<style scoped>\n",
       "    .dataframe tbody tr th:only-of-type {\n",
       "        vertical-align: middle;\n",
       "    }\n",
       "\n",
       "    .dataframe tbody tr th {\n",
       "        vertical-align: top;\n",
       "    }\n",
       "\n",
       "    .dataframe thead th {\n",
       "        text-align: right;\n",
       "    }\n",
       "</style>\n",
       "<table border=\"1\" class=\"dataframe\">\n",
       "  <thead>\n",
       "    <tr style=\"text-align: right;\">\n",
       "      <th></th>\n",
       "      <th>date</th>\n",
       "      <th>temperature</th>\n",
       "      <th>windSpeed</th>\n",
       "      <th>status</th>\n",
       "    </tr>\n",
       "  </thead>\n",
       "  <tbody>\n",
       "    <tr>\n",
       "      <th>0</th>\n",
       "      <td>2020-05-06</td>\n",
       "      <td>35.6582</td>\n",
       "      <td>10.788378</td>\n",
       "      <td>sunny</td>\n",
       "    </tr>\n",
       "    <tr>\n",
       "      <th>1</th>\n",
       "      <td>2020-05-07</td>\n",
       "      <td>35.6582</td>\n",
       "      <td>10.788378</td>\n",
       "      <td>sunny</td>\n",
       "    </tr>\n",
       "    <tr>\n",
       "      <th>2</th>\n",
       "      <td>2020-05-08</td>\n",
       "      <td>30.9343</td>\n",
       "      <td>10.788378</td>\n",
       "      <td>rainy</td>\n",
       "    </tr>\n",
       "    <tr>\n",
       "      <th>3</th>\n",
       "      <td>2020-05-09</td>\n",
       "      <td>30.9343</td>\n",
       "      <td>6.889682</td>\n",
       "      <td>cloudy</td>\n",
       "    </tr>\n",
       "    <tr>\n",
       "      <th>4</th>\n",
       "      <td>2020-05-10</td>\n",
       "      <td>13.9082</td>\n",
       "      <td>19.012990</td>\n",
       "      <td>rainy</td>\n",
       "    </tr>\n",
       "    <tr>\n",
       "      <th>5</th>\n",
       "      <td>2020-05-11</td>\n",
       "      <td>23.9382</td>\n",
       "      <td>19.012990</td>\n",
       "      <td>sunny</td>\n",
       "    </tr>\n",
       "  </tbody>\n",
       "</table>\n",
       "</div>"
      ],
      "text/plain": [
       "        date  temperature  windSpeed  status\n",
       "0 2020-05-06      35.6582  10.788378   sunny\n",
       "1 2020-05-07      35.6582  10.788378   sunny\n",
       "2 2020-05-08      30.9343  10.788378   rainy\n",
       "3 2020-05-09      30.9343   6.889682  cloudy\n",
       "4 2020-05-10      13.9082  19.012990   rainy\n",
       "5 2020-05-11      23.9382  19.012990   sunny"
      ]
     },
     "execution_count": 19,
     "metadata": {},
     "output_type": "execute_result"
    }
   ],
   "source": [
    "data.fillna(method=\"ffill\",limit=2)"
   ]
  },
  {
   "cell_type": "code",
   "execution_count": 20,
   "id": "69654119",
   "metadata": {},
   "outputs": [
    {
     "data": {
      "text/html": [
       "<div>\n",
       "<style scoped>\n",
       "    .dataframe tbody tr th:only-of-type {\n",
       "        vertical-align: middle;\n",
       "    }\n",
       "\n",
       "    .dataframe tbody tr th {\n",
       "        vertical-align: top;\n",
       "    }\n",
       "\n",
       "    .dataframe thead th {\n",
       "        text-align: right;\n",
       "    }\n",
       "</style>\n",
       "<table border=\"1\" class=\"dataframe\">\n",
       "  <thead>\n",
       "    <tr style=\"text-align: right;\">\n",
       "      <th></th>\n",
       "      <th>date</th>\n",
       "      <th>temperature</th>\n",
       "      <th>windSpeed</th>\n",
       "      <th>status</th>\n",
       "    </tr>\n",
       "  </thead>\n",
       "  <tbody>\n",
       "    <tr>\n",
       "      <th>0</th>\n",
       "      <td>2020-05-06</td>\n",
       "      <td>35.6582</td>\n",
       "      <td>10.788378</td>\n",
       "      <td>sunny</td>\n",
       "    </tr>\n",
       "    <tr>\n",
       "      <th>1</th>\n",
       "      <td>2020-05-07</td>\n",
       "      <td>35.6582</td>\n",
       "      <td>10.788378</td>\n",
       "      <td>sunny</td>\n",
       "    </tr>\n",
       "    <tr>\n",
       "      <th>2</th>\n",
       "      <td>2020-05-08</td>\n",
       "      <td>30.9343</td>\n",
       "      <td>NaN</td>\n",
       "      <td>rainy</td>\n",
       "    </tr>\n",
       "    <tr>\n",
       "      <th>3</th>\n",
       "      <td>2020-05-09</td>\n",
       "      <td>30.9343</td>\n",
       "      <td>6.889682</td>\n",
       "      <td>cloudy</td>\n",
       "    </tr>\n",
       "    <tr>\n",
       "      <th>4</th>\n",
       "      <td>2020-05-10</td>\n",
       "      <td>13.9082</td>\n",
       "      <td>19.012990</td>\n",
       "      <td>rainy</td>\n",
       "    </tr>\n",
       "    <tr>\n",
       "      <th>5</th>\n",
       "      <td>2020-05-11</td>\n",
       "      <td>23.9382</td>\n",
       "      <td>19.012990</td>\n",
       "      <td>sunny</td>\n",
       "    </tr>\n",
       "  </tbody>\n",
       "</table>\n",
       "</div>"
      ],
      "text/plain": [
       "        date  temperature  windSpeed  status\n",
       "0 2020-05-06      35.6582  10.788378   sunny\n",
       "1 2020-05-07      35.6582  10.788378   sunny\n",
       "2 2020-05-08      30.9343        NaN   rainy\n",
       "3 2020-05-09      30.9343   6.889682  cloudy\n",
       "4 2020-05-10      13.9082  19.012990   rainy\n",
       "5 2020-05-11      23.9382  19.012990   sunny"
      ]
     },
     "execution_count": 20,
     "metadata": {},
     "output_type": "execute_result"
    }
   ],
   "source": [
    "data.fillna(method=\"ffill\",limit=1)"
   ]
  },
  {
   "cell_type": "code",
   "execution_count": 27,
   "id": "b8e03667",
   "metadata": {},
   "outputs": [
    {
     "data": {
      "text/html": [
       "<div>\n",
       "<style scoped>\n",
       "    .dataframe tbody tr th:only-of-type {\n",
       "        vertical-align: middle;\n",
       "    }\n",
       "\n",
       "    .dataframe tbody tr th {\n",
       "        vertical-align: top;\n",
       "    }\n",
       "\n",
       "    .dataframe thead th {\n",
       "        text-align: right;\n",
       "    }\n",
       "</style>\n",
       "<table border=\"1\" class=\"dataframe\">\n",
       "  <thead>\n",
       "    <tr style=\"text-align: right;\">\n",
       "      <th></th>\n",
       "      <th>date</th>\n",
       "      <th>temperature</th>\n",
       "      <th>windSpeed</th>\n",
       "      <th>status</th>\n",
       "    </tr>\n",
       "  </thead>\n",
       "  <tbody>\n",
       "    <tr>\n",
       "      <th>0</th>\n",
       "      <td>2020-05-06</td>\n",
       "      <td>35.6582</td>\n",
       "      <td>10.788378</td>\n",
       "      <td>sunny</td>\n",
       "    </tr>\n",
       "    <tr>\n",
       "      <th>1</th>\n",
       "      <td>2020-05-07</td>\n",
       "      <td>30.9343</td>\n",
       "      <td>NaN</td>\n",
       "      <td>rainy</td>\n",
       "    </tr>\n",
       "    <tr>\n",
       "      <th>2</th>\n",
       "      <td>2020-05-08</td>\n",
       "      <td>30.9343</td>\n",
       "      <td>6.889682</td>\n",
       "      <td>rainy</td>\n",
       "    </tr>\n",
       "    <tr>\n",
       "      <th>3</th>\n",
       "      <td>2020-05-09</td>\n",
       "      <td>13.9082</td>\n",
       "      <td>6.889682</td>\n",
       "      <td>cloudy</td>\n",
       "    </tr>\n",
       "    <tr>\n",
       "      <th>4</th>\n",
       "      <td>2020-05-10</td>\n",
       "      <td>13.9082</td>\n",
       "      <td>19.012990</td>\n",
       "      <td>rainy</td>\n",
       "    </tr>\n",
       "    <tr>\n",
       "      <th>5</th>\n",
       "      <td>2020-05-11</td>\n",
       "      <td>23.9382</td>\n",
       "      <td>NaN</td>\n",
       "      <td>sunny</td>\n",
       "    </tr>\n",
       "  </tbody>\n",
       "</table>\n",
       "</div>"
      ],
      "text/plain": [
       "        date  temperature  windSpeed  status\n",
       "0 2020-05-06      35.6582  10.788378   sunny\n",
       "1 2020-05-07      30.9343        NaN   rainy\n",
       "2 2020-05-08      30.9343   6.889682   rainy\n",
       "3 2020-05-09      13.9082   6.889682  cloudy\n",
       "4 2020-05-10      13.9082  19.012990   rainy\n",
       "5 2020-05-11      23.9382        NaN   sunny"
      ]
     },
     "execution_count": 27,
     "metadata": {},
     "output_type": "execute_result"
    }
   ],
   "source": [
    "data.fillna(method=\"bfill\",limit=1)"
   ]
  },
  {
   "cell_type": "markdown",
   "id": "9ef0da56",
   "metadata": {},
   "source": [
    "#### Filling with pandas object"
   ]
  },
  {
   "cell_type": "code",
   "execution_count": 28,
   "id": "7f2e426f",
   "metadata": {},
   "outputs": [
    {
     "data": {
      "text/html": [
       "<div>\n",
       "<style scoped>\n",
       "    .dataframe tbody tr th:only-of-type {\n",
       "        vertical-align: middle;\n",
       "    }\n",
       "\n",
       "    .dataframe tbody tr th {\n",
       "        vertical-align: top;\n",
       "    }\n",
       "\n",
       "    .dataframe thead th {\n",
       "        text-align: right;\n",
       "    }\n",
       "</style>\n",
       "<table border=\"1\" class=\"dataframe\">\n",
       "  <thead>\n",
       "    <tr style=\"text-align: right;\">\n",
       "      <th></th>\n",
       "      <th>date</th>\n",
       "      <th>temperature</th>\n",
       "      <th>windSpeed</th>\n",
       "      <th>status</th>\n",
       "    </tr>\n",
       "  </thead>\n",
       "  <tbody>\n",
       "    <tr>\n",
       "      <th>0</th>\n",
       "      <td>2020-05-06</td>\n",
       "      <td>35.658200</td>\n",
       "      <td>10.788378</td>\n",
       "      <td>sunny</td>\n",
       "    </tr>\n",
       "    <tr>\n",
       "      <th>1</th>\n",
       "      <td>2020-05-07</td>\n",
       "      <td>26.109725</td>\n",
       "      <td>12.230350</td>\n",
       "      <td>NaN</td>\n",
       "    </tr>\n",
       "    <tr>\n",
       "      <th>2</th>\n",
       "      <td>2020-05-08</td>\n",
       "      <td>30.934300</td>\n",
       "      <td>12.230350</td>\n",
       "      <td>rainy</td>\n",
       "    </tr>\n",
       "    <tr>\n",
       "      <th>3</th>\n",
       "      <td>2020-05-09</td>\n",
       "      <td>26.109725</td>\n",
       "      <td>6.889682</td>\n",
       "      <td>cloudy</td>\n",
       "    </tr>\n",
       "    <tr>\n",
       "      <th>4</th>\n",
       "      <td>2020-05-10</td>\n",
       "      <td>13.908200</td>\n",
       "      <td>19.012990</td>\n",
       "      <td>rainy</td>\n",
       "    </tr>\n",
       "    <tr>\n",
       "      <th>5</th>\n",
       "      <td>2020-05-11</td>\n",
       "      <td>23.938200</td>\n",
       "      <td>12.230350</td>\n",
       "      <td>sunny</td>\n",
       "    </tr>\n",
       "  </tbody>\n",
       "</table>\n",
       "</div>"
      ],
      "text/plain": [
       "        date  temperature  windSpeed  status\n",
       "0 2020-05-06    35.658200  10.788378   sunny\n",
       "1 2020-05-07    26.109725  12.230350     NaN\n",
       "2 2020-05-08    30.934300  12.230350   rainy\n",
       "3 2020-05-09    26.109725   6.889682  cloudy\n",
       "4 2020-05-10    13.908200  19.012990   rainy\n",
       "5 2020-05-11    23.938200  12.230350   sunny"
      ]
     },
     "execution_count": 28,
     "metadata": {},
     "output_type": "execute_result"
    }
   ],
   "source": [
    "data.fillna(data.mean())"
   ]
  },
  {
   "cell_type": "code",
   "execution_count": 31,
   "id": "c3a553d7",
   "metadata": {},
   "outputs": [
    {
     "data": {
      "text/html": [
       "<div>\n",
       "<style scoped>\n",
       "    .dataframe tbody tr th:only-of-type {\n",
       "        vertical-align: middle;\n",
       "    }\n",
       "\n",
       "    .dataframe tbody tr th {\n",
       "        vertical-align: top;\n",
       "    }\n",
       "\n",
       "    .dataframe thead th {\n",
       "        text-align: right;\n",
       "    }\n",
       "</style>\n",
       "<table border=\"1\" class=\"dataframe\">\n",
       "  <thead>\n",
       "    <tr style=\"text-align: right;\">\n",
       "      <th></th>\n",
       "      <th>date</th>\n",
       "      <th>temperature</th>\n",
       "      <th>windSpeed</th>\n",
       "      <th>status</th>\n",
       "    </tr>\n",
       "  </thead>\n",
       "  <tbody>\n",
       "    <tr>\n",
       "      <th>0</th>\n",
       "      <td>2020-05-06</td>\n",
       "      <td>35.6582</td>\n",
       "      <td>10.788378</td>\n",
       "      <td>sunny</td>\n",
       "    </tr>\n",
       "    <tr>\n",
       "      <th>1</th>\n",
       "      <td>2020-05-07</td>\n",
       "      <td>23.9382</td>\n",
       "      <td>10.788378</td>\n",
       "      <td>sunny</td>\n",
       "    </tr>\n",
       "    <tr>\n",
       "      <th>2</th>\n",
       "      <td>2020-05-08</td>\n",
       "      <td>30.9343</td>\n",
       "      <td>19.012990</td>\n",
       "      <td>rainy</td>\n",
       "    </tr>\n",
       "    <tr>\n",
       "      <th>3</th>\n",
       "      <td>2020-05-09</td>\n",
       "      <td>35.6582</td>\n",
       "      <td>6.889682</td>\n",
       "      <td>cloudy</td>\n",
       "    </tr>\n",
       "    <tr>\n",
       "      <th>4</th>\n",
       "      <td>2020-05-10</td>\n",
       "      <td>13.9082</td>\n",
       "      <td>19.012990</td>\n",
       "      <td>rainy</td>\n",
       "    </tr>\n",
       "    <tr>\n",
       "      <th>5</th>\n",
       "      <td>2020-05-11</td>\n",
       "      <td>23.9382</td>\n",
       "      <td>NaN</td>\n",
       "      <td>sunny</td>\n",
       "    </tr>\n",
       "  </tbody>\n",
       "</table>\n",
       "</div>"
      ],
      "text/plain": [
       "        date  temperature  windSpeed  status\n",
       "0 2020-05-06      35.6582  10.788378   sunny\n",
       "1 2020-05-07      23.9382  10.788378   sunny\n",
       "2 2020-05-08      30.9343  19.012990   rainy\n",
       "3 2020-05-09      35.6582   6.889682  cloudy\n",
       "4 2020-05-10      13.9082  19.012990   rainy\n",
       "5 2020-05-11      23.9382        NaN   sunny"
      ]
     },
     "execution_count": 31,
     "metadata": {},
     "output_type": "execute_result"
    }
   ],
   "source": [
    "data.fillna(data.mode())"
   ]
  },
  {
   "cell_type": "markdown",
   "id": "96c2ecc3",
   "metadata": {},
   "source": [
    "### Filling for specific range of columns"
   ]
  },
  {
   "cell_type": "code",
   "execution_count": 33,
   "id": "a6956ea1",
   "metadata": {},
   "outputs": [
    {
     "data": {
      "text/html": [
       "<div>\n",
       "<style scoped>\n",
       "    .dataframe tbody tr th:only-of-type {\n",
       "        vertical-align: middle;\n",
       "    }\n",
       "\n",
       "    .dataframe tbody tr th {\n",
       "        vertical-align: top;\n",
       "    }\n",
       "\n",
       "    .dataframe thead th {\n",
       "        text-align: right;\n",
       "    }\n",
       "</style>\n",
       "<table border=\"1\" class=\"dataframe\">\n",
       "  <thead>\n",
       "    <tr style=\"text-align: right;\">\n",
       "      <th></th>\n",
       "      <th>date</th>\n",
       "      <th>temperature</th>\n",
       "      <th>windSpeed</th>\n",
       "      <th>status</th>\n",
       "    </tr>\n",
       "  </thead>\n",
       "  <tbody>\n",
       "    <tr>\n",
       "      <th>0</th>\n",
       "      <td>2020-05-06</td>\n",
       "      <td>35.658200</td>\n",
       "      <td>10.788378</td>\n",
       "      <td>sunny</td>\n",
       "    </tr>\n",
       "    <tr>\n",
       "      <th>1</th>\n",
       "      <td>2020-05-07</td>\n",
       "      <td>26.109725</td>\n",
       "      <td>12.230350</td>\n",
       "      <td>NaN</td>\n",
       "    </tr>\n",
       "    <tr>\n",
       "      <th>2</th>\n",
       "      <td>2020-05-08</td>\n",
       "      <td>30.934300</td>\n",
       "      <td>12.230350</td>\n",
       "      <td>rainy</td>\n",
       "    </tr>\n",
       "    <tr>\n",
       "      <th>3</th>\n",
       "      <td>2020-05-09</td>\n",
       "      <td>26.109725</td>\n",
       "      <td>6.889682</td>\n",
       "      <td>cloudy</td>\n",
       "    </tr>\n",
       "    <tr>\n",
       "      <th>4</th>\n",
       "      <td>2020-05-10</td>\n",
       "      <td>13.908200</td>\n",
       "      <td>19.012990</td>\n",
       "      <td>rainy</td>\n",
       "    </tr>\n",
       "    <tr>\n",
       "      <th>5</th>\n",
       "      <td>2020-05-11</td>\n",
       "      <td>23.938200</td>\n",
       "      <td>12.230350</td>\n",
       "      <td>sunny</td>\n",
       "    </tr>\n",
       "  </tbody>\n",
       "</table>\n",
       "</div>"
      ],
      "text/plain": [
       "        date  temperature  windSpeed  status\n",
       "0 2020-05-06    35.658200  10.788378   sunny\n",
       "1 2020-05-07    26.109725  12.230350     NaN\n",
       "2 2020-05-08    30.934300  12.230350   rainy\n",
       "3 2020-05-09    26.109725   6.889682  cloudy\n",
       "4 2020-05-10    13.908200  19.012990   rainy\n",
       "5 2020-05-11    23.938200  12.230350   sunny"
      ]
     },
     "execution_count": 33,
     "metadata": {},
     "output_type": "execute_result"
    }
   ],
   "source": [
    "data.fillna(data.mean()['temperature':'windspeed'])"
   ]
  },
  {
   "cell_type": "markdown",
   "id": "9ca05f24",
   "metadata": {},
   "source": [
    "#### Interpolate missing values"
   ]
  },
  {
   "cell_type": "markdown",
   "id": "f3682b85",
   "metadata": {},
   "source": [
    "#### Linear interpolate"
   ]
  },
  {
   "cell_type": "code",
   "execution_count": 34,
   "id": "6a658b74",
   "metadata": {
    "scrolled": true
   },
   "outputs": [
    {
     "data": {
      "text/plain": [
       "0    35.65820\n",
       "1    33.29625\n",
       "2    30.93430\n",
       "3    22.42125\n",
       "4    13.90820\n",
       "5    23.93820\n",
       "Name: temperature, dtype: float64"
      ]
     },
     "execution_count": 34,
     "metadata": {},
     "output_type": "execute_result"
    }
   ],
   "source": [
    "data.temperature.interpolate()"
   ]
  },
  {
   "cell_type": "markdown",
   "id": "ece3e2bc",
   "metadata": {},
   "source": [
    "#### Other methods"
   ]
  },
  {
   "cell_type": "code",
   "execution_count": 36,
   "id": "c08548fb",
   "metadata": {},
   "outputs": [
    {
     "data": {
      "text/plain": [
       "0    35.65820\n",
       "1    39.46530\n",
       "2    30.93430\n",
       "3    19.32775\n",
       "4    13.90820\n",
       "5    23.93820\n",
       "Name: temperature, dtype: float64"
      ]
     },
     "execution_count": 36,
     "metadata": {},
     "output_type": "execute_result"
    }
   ],
   "source": [
    "data.temperature.interpolate(method=\"barycentric\")"
   ]
  },
  {
   "cell_type": "code",
   "execution_count": 37,
   "id": "edd48c11",
   "metadata": {},
   "outputs": [
    {
     "data": {
      "text/plain": [
       "0    10.788378\n",
       "1     8.044851\n",
       "2     7.034078\n",
       "3     6.889682\n",
       "4    19.012990\n",
       "5    20.312555\n",
       "Name: windSpeed, dtype: float64"
      ]
     },
     "execution_count": 37,
     "metadata": {},
     "output_type": "execute_result"
    }
   ],
   "source": [
    "data.windSpeed.interpolate(method=\"pchip\")"
   ]
  },
  {
   "cell_type": "code",
   "execution_count": 38,
   "id": "87b0f0fb",
   "metadata": {},
   "outputs": [
    {
     "data": {
      "text/plain": [
       "0    10.788378\n",
       "1     5.014522\n",
       "2     3.714956\n",
       "3     6.889682\n",
       "4    19.012990\n",
       "5          NaN\n",
       "Name: windSpeed, dtype: float64"
      ]
     },
     "execution_count": 38,
     "metadata": {},
     "output_type": "execute_result"
    }
   ],
   "source": [
    "data.windSpeed.interpolate(method=\"akima\")"
   ]
  },
  {
   "cell_type": "code",
   "execution_count": 39,
   "id": "e78c3e81",
   "metadata": {},
   "outputs": [
    {
     "data": {
      "text/plain": [
       "0    35.658200\n",
       "1    35.076089\n",
       "2    30.934300\n",
       "3    20.526966\n",
       "4    13.908200\n",
       "5    23.938200\n",
       "Name: temperature, dtype: float64"
      ]
     },
     "execution_count": 39,
     "metadata": {},
     "output_type": "execute_result"
    }
   ],
   "source": [
    "data.temperature.interpolate(method=\"spline\",order=2)"
   ]
  },
  {
   "cell_type": "code",
   "execution_count": 40,
   "id": "2330ac24",
   "metadata": {},
   "outputs": [
    {
     "data": {
      "text/plain": [
       "0    35.658200\n",
       "1    36.196165\n",
       "2    30.934300\n",
       "3    19.872606\n",
       "4    13.908200\n",
       "5    23.938200\n",
       "Name: temperature, dtype: float64"
      ]
     },
     "execution_count": 40,
     "metadata": {},
     "output_type": "execute_result"
    }
   ],
   "source": [
    "data.temperature.interpolate(method=\"polynomial\",order=2)"
   ]
  },
  {
   "cell_type": "code",
   "execution_count": null,
   "id": "621ca59b",
   "metadata": {},
   "outputs": [],
   "source": []
  }
 ],
 "metadata": {
  "kernelspec": {
   "display_name": "Python 3 (ipykernel)",
   "language": "python",
   "name": "python3"
  },
  "language_info": {
   "codemirror_mode": {
    "name": "ipython",
    "version": 3
   },
   "file_extension": ".py",
   "mimetype": "text/x-python",
   "name": "python",
   "nbconvert_exporter": "python",
   "pygments_lexer": "ipython3",
   "version": "3.9.13"
  }
 },
 "nbformat": 4,
 "nbformat_minor": 5
}
