{
 "cells": [
  {
   "cell_type": "code",
   "execution_count": 1,
   "id": "dd99059f",
   "metadata": {},
   "outputs": [],
   "source": [
    "from scipy import constants\n",
    "import numpy as np"
   ]
  },
  {
   "cell_type": "code",
   "execution_count": 2,
   "id": "dc616117",
   "metadata": {},
   "outputs": [
    {
     "name": "stdout",
     "output_type": "stream",
     "text": [
      "['Avogadro', 'Boltzmann', 'Btu', 'Btu_IT', 'Btu_th', 'ConstantWarning', 'G', 'Julian_year', 'N_A', 'Planck', 'R', 'Rydberg', 'Stefan_Boltzmann', 'Wien', '__all__', '__builtins__', '__cached__', '__doc__', '__file__', '__loader__', '__name__', '__package__', '__path__', '__spec__', '_codata', '_constants', '_obsolete_constants', 'acre', 'alpha', 'angstrom', 'arcmin', 'arcminute', 'arcsec', 'arcsecond', 'astronomical_unit', 'atm', 'atmosphere', 'atomic_mass', 'atto', 'au', 'bar', 'barrel', 'bbl', 'blob', 'c', 'calorie', 'calorie_IT', 'calorie_th', 'carat', 'centi', 'codata', 'constants', 'convert_temperature', 'day', 'deci', 'degree', 'degree_Fahrenheit', 'deka', 'dyn', 'dyne', 'e', 'eV', 'electron_mass', 'electron_volt', 'elementary_charge', 'epsilon_0', 'erg', 'exa', 'exbi', 'femto', 'fermi', 'find', 'fine_structure', 'fluid_ounce', 'fluid_ounce_US', 'fluid_ounce_imp', 'foot', 'g', 'gallon', 'gallon_US', 'gallon_imp', 'gas_constant', 'gibi', 'giga', 'golden', 'golden_ratio', 'grain', 'gram', 'gravitational_constant', 'h', 'hbar', 'hectare', 'hecto', 'horsepower', 'hour', 'hp', 'inch', 'k', 'kgf', 'kibi', 'kilo', 'kilogram_force', 'kmh', 'knot', 'lambda2nu', 'lb', 'lbf', 'light_year', 'liter', 'litre', 'long_ton', 'm_e', 'm_n', 'm_p', 'm_u', 'mach', 'mebi', 'mega', 'metric_ton', 'micro', 'micron', 'mil', 'mile', 'milli', 'minute', 'mmHg', 'mph', 'mu_0', 'nano', 'nautical_mile', 'neutron_mass', 'nu2lambda', 'ounce', 'oz', 'parsec', 'pebi', 'peta', 'physical_constants', 'pi', 'pico', 'point', 'pound', 'pound_force', 'precision', 'proton_mass', 'psi', 'pt', 'short_ton', 'sigma', 'slinch', 'slug', 'speed_of_light', 'speed_of_sound', 'stone', 'survey_foot', 'survey_mile', 'tebi', 'tera', 'test', 'ton_TNT', 'torr', 'troy_ounce', 'troy_pound', 'u', 'unit', 'value', 'week', 'yard', 'year', 'yobi', 'yocto', 'yotta', 'zebi', 'zepto', 'zero_Celsius', 'zetta']\n"
     ]
    }
   ],
   "source": [
    "print(dir(constants))"
   ]
  },
  {
   "cell_type": "code",
   "execution_count": 3,
   "id": "ac9e82d4",
   "metadata": {},
   "outputs": [
    {
     "data": {
      "text/plain": [
       "6.02214076e+23"
      ]
     },
     "execution_count": 3,
     "metadata": {},
     "output_type": "execute_result"
    }
   ],
   "source": [
    "constants.Avogadro"
   ]
  },
  {
   "cell_type": "code",
   "execution_count": 4,
   "id": "2f9e151c",
   "metadata": {},
   "outputs": [
    {
     "data": {
      "text/plain": [
       "1.380649e-23"
      ]
     },
     "execution_count": 4,
     "metadata": {},
     "output_type": "execute_result"
    }
   ],
   "source": [
    "constants.Boltzmann"
   ]
  },
  {
   "cell_type": "code",
   "execution_count": 5,
   "id": "8b91774b",
   "metadata": {},
   "outputs": [
    {
     "data": {
      "text/plain": [
       "6.6743e-11"
      ]
     },
     "execution_count": 5,
     "metadata": {},
     "output_type": "execute_result"
    }
   ],
   "source": [
    "constants.G"
   ]
  },
  {
   "cell_type": "code",
   "execution_count": 7,
   "id": "ede2153d",
   "metadata": {},
   "outputs": [
    {
     "data": {
      "text/plain": [
       "4046.8564223999992"
      ]
     },
     "execution_count": 7,
     "metadata": {},
     "output_type": "execute_result"
    }
   ],
   "source": [
    "constants.acre"
   ]
  },
  {
   "cell_type": "markdown",
   "id": "bac99359",
   "metadata": {},
   "source": [
    "### Metric prefixes"
   ]
  },
  {
   "cell_type": "code",
   "execution_count": 8,
   "id": "6471f4d3",
   "metadata": {},
   "outputs": [
    {
     "data": {
      "text/plain": [
       "1e+24"
      ]
     },
     "execution_count": 8,
     "metadata": {},
     "output_type": "execute_result"
    }
   ],
   "source": [
    "constants.yotta"
   ]
  },
  {
   "cell_type": "code",
   "execution_count": 9,
   "id": "64be411d",
   "metadata": {},
   "outputs": [
    {
     "data": {
      "text/plain": [
       "1000000000000000.0"
      ]
     },
     "execution_count": 9,
     "metadata": {},
     "output_type": "execute_result"
    }
   ],
   "source": [
    "constants.peta"
   ]
  },
  {
   "cell_type": "code",
   "execution_count": 10,
   "id": "2771e9ba",
   "metadata": {},
   "outputs": [
    {
     "data": {
      "text/plain": [
       "1000000.0"
      ]
     },
     "execution_count": 10,
     "metadata": {},
     "output_type": "execute_result"
    }
   ],
   "source": [
    "constants.mega"
   ]
  },
  {
   "cell_type": "code",
   "execution_count": 11,
   "id": "19c624b6",
   "metadata": {},
   "outputs": [
    {
     "data": {
      "text/plain": [
       "1000000000000000.0"
      ]
     },
     "execution_count": 11,
     "metadata": {},
     "output_type": "execute_result"
    }
   ],
   "source": [
    "constants.peta"
   ]
  },
  {
   "cell_type": "code",
   "execution_count": 12,
   "id": "30d3ea88",
   "metadata": {},
   "outputs": [
    {
     "data": {
      "text/plain": [
       "1000000000000.0"
      ]
     },
     "execution_count": 12,
     "metadata": {},
     "output_type": "execute_result"
    }
   ],
   "source": [
    "constants.tera"
   ]
  },
  {
   "cell_type": "code",
   "execution_count": 13,
   "id": "df00785a",
   "metadata": {},
   "outputs": [
    {
     "data": {
      "text/plain": [
       "1000000000.0"
      ]
     },
     "execution_count": 13,
     "metadata": {},
     "output_type": "execute_result"
    }
   ],
   "source": [
    "constants.giga"
   ]
  },
  {
   "cell_type": "code",
   "execution_count": 14,
   "id": "bfb29f9f",
   "metadata": {},
   "outputs": [
    {
     "data": {
      "text/plain": [
       "1000.0"
      ]
     },
     "execution_count": 14,
     "metadata": {},
     "output_type": "execute_result"
    }
   ],
   "source": [
    "constants.kilo"
   ]
  },
  {
   "cell_type": "code",
   "execution_count": 15,
   "id": "050896c2",
   "metadata": {},
   "outputs": [
    {
     "data": {
      "text/plain": [
       "1e-12"
      ]
     },
     "execution_count": 15,
     "metadata": {},
     "output_type": "execute_result"
    }
   ],
   "source": [
    "constants.pico"
   ]
  },
  {
   "cell_type": "code",
   "execution_count": 16,
   "id": "e2ca162b",
   "metadata": {},
   "outputs": [
    {
     "data": {
      "text/plain": [
       "0.001"
      ]
     },
     "execution_count": 16,
     "metadata": {},
     "output_type": "execute_result"
    }
   ],
   "source": [
    "constants.milli"
   ]
  },
  {
   "cell_type": "code",
   "execution_count": 17,
   "id": "7ac65b98",
   "metadata": {},
   "outputs": [
    {
     "data": {
      "text/plain": [
       "1e-06"
      ]
     },
     "execution_count": 17,
     "metadata": {},
     "output_type": "execute_result"
    }
   ],
   "source": [
    "constants.micro"
   ]
  },
  {
   "cell_type": "markdown",
   "id": "5816c00f",
   "metadata": {},
   "source": [
    "### Binary prefixes"
   ]
  },
  {
   "cell_type": "code",
   "execution_count": 18,
   "id": "ca72f49d",
   "metadata": {},
   "outputs": [
    {
     "data": {
      "text/plain": [
       "1024"
      ]
     },
     "execution_count": 18,
     "metadata": {},
     "output_type": "execute_result"
    }
   ],
   "source": [
    "constants.kibi"
   ]
  },
  {
   "cell_type": "code",
   "execution_count": 19,
   "id": "65c2562a",
   "metadata": {},
   "outputs": [
    {
     "data": {
      "text/plain": [
       "1073741824"
      ]
     },
     "execution_count": 19,
     "metadata": {},
     "output_type": "execute_result"
    }
   ],
   "source": [
    "constants.gibi"
   ]
  },
  {
   "cell_type": "code",
   "execution_count": 20,
   "id": "1eab88d2",
   "metadata": {},
   "outputs": [
    {
     "data": {
      "text/plain": [
       "1048576"
      ]
     },
     "execution_count": 20,
     "metadata": {},
     "output_type": "execute_result"
    }
   ],
   "source": [
    "constants.mebi"
   ]
  },
  {
   "cell_type": "code",
   "execution_count": 21,
   "id": "d973360a",
   "metadata": {},
   "outputs": [
    {
     "data": {
      "text/plain": [
       "1125899906842624"
      ]
     },
     "execution_count": 21,
     "metadata": {},
     "output_type": "execute_result"
    }
   ],
   "source": [
    "constants.pebi"
   ]
  },
  {
   "cell_type": "code",
   "execution_count": 22,
   "id": "fa51c764",
   "metadata": {},
   "outputs": [
    {
     "data": {
      "text/plain": [
       "1099511627776"
      ]
     },
     "execution_count": 22,
     "metadata": {},
     "output_type": "execute_result"
    }
   ],
   "source": [
    "constants.tebi"
   ]
  },
  {
   "cell_type": "code",
   "execution_count": 23,
   "id": "2c55bc8f",
   "metadata": {},
   "outputs": [
    {
     "data": {
      "text/plain": [
       "1152921504606846976"
      ]
     },
     "execution_count": 23,
     "metadata": {},
     "output_type": "execute_result"
    }
   ],
   "source": [
    "constants.exbi"
   ]
  },
  {
   "cell_type": "code",
   "execution_count": 24,
   "id": "2d732faa",
   "metadata": {},
   "outputs": [
    {
     "data": {
      "text/plain": [
       "1180591620717411303424"
      ]
     },
     "execution_count": 24,
     "metadata": {},
     "output_type": "execute_result"
    }
   ],
   "source": [
    "constants.zebi"
   ]
  },
  {
   "cell_type": "code",
   "execution_count": 25,
   "id": "5d0ae176",
   "metadata": {},
   "outputs": [
    {
     "data": {
      "text/plain": [
       "1208925819614629174706176"
      ]
     },
     "execution_count": 25,
     "metadata": {},
     "output_type": "execute_result"
    }
   ],
   "source": [
    "constants.yobi"
   ]
  },
  {
   "cell_type": "markdown",
   "id": "1b537b61",
   "metadata": {},
   "source": [
    "### Mass"
   ]
  },
  {
   "cell_type": "code",
   "execution_count": 26,
   "id": "c028c552",
   "metadata": {},
   "outputs": [
    {
     "data": {
      "text/plain": [
       "0.001"
      ]
     },
     "execution_count": 26,
     "metadata": {},
     "output_type": "execute_result"
    }
   ],
   "source": [
    "constants.gram"
   ]
  },
  {
   "cell_type": "code",
   "execution_count": 27,
   "id": "9ed6dd98",
   "metadata": {},
   "outputs": [
    {
     "data": {
      "text/plain": [
       "1000.0"
      ]
     },
     "execution_count": 27,
     "metadata": {},
     "output_type": "execute_result"
    }
   ],
   "source": [
    "constants.metric_ton"
   ]
  },
  {
   "cell_type": "code",
   "execution_count": 28,
   "id": "f9d63841",
   "metadata": {},
   "outputs": [
    {
     "data": {
      "text/plain": [
       "6.479891e-05"
      ]
     },
     "execution_count": 28,
     "metadata": {},
     "output_type": "execute_result"
    }
   ],
   "source": [
    "constants.grain"
   ]
  },
  {
   "cell_type": "code",
   "execution_count": 29,
   "id": "6d3bd27c",
   "metadata": {},
   "outputs": [
    {
     "data": {
      "text/plain": [
       "0.45359236999999997"
      ]
     },
     "execution_count": 29,
     "metadata": {},
     "output_type": "execute_result"
    }
   ],
   "source": [
    "constants.lb"
   ]
  },
  {
   "cell_type": "code",
   "execution_count": 30,
   "id": "1a49a95c",
   "metadata": {},
   "outputs": [
    {
     "data": {
      "text/plain": [
       "0.45359236999999997"
      ]
     },
     "execution_count": 30,
     "metadata": {},
     "output_type": "execute_result"
    }
   ],
   "source": [
    "constants.pound"
   ]
  },
  {
   "cell_type": "code",
   "execution_count": 31,
   "id": "73a910ae",
   "metadata": {},
   "outputs": [
    {
     "data": {
      "text/plain": [
       "0.028349523124999998"
      ]
     },
     "execution_count": 31,
     "metadata": {},
     "output_type": "execute_result"
    }
   ],
   "source": [
    "constants.oz"
   ]
  },
  {
   "cell_type": "code",
   "execution_count": 32,
   "id": "aead9b72",
   "metadata": {},
   "outputs": [
    {
     "data": {
      "text/plain": [
       "0.028349523124999998"
      ]
     },
     "execution_count": 32,
     "metadata": {},
     "output_type": "execute_result"
    }
   ],
   "source": [
    "constants.ounce"
   ]
  },
  {
   "cell_type": "code",
   "execution_count": 33,
   "id": "54b02310",
   "metadata": {},
   "outputs": [
    {
     "data": {
      "text/plain": [
       "6.3502931799999995"
      ]
     },
     "execution_count": 33,
     "metadata": {},
     "output_type": "execute_result"
    }
   ],
   "source": [
    "constants.stone"
   ]
  },
  {
   "cell_type": "code",
   "execution_count": 34,
   "id": "0dad04fc",
   "metadata": {},
   "outputs": [
    {
     "data": {
      "text/plain": [
       "1016.0469088"
      ]
     },
     "execution_count": 34,
     "metadata": {},
     "output_type": "execute_result"
    }
   ],
   "source": [
    "constants.long_ton"
   ]
  },
  {
   "cell_type": "code",
   "execution_count": 35,
   "id": "7cc60329",
   "metadata": {},
   "outputs": [
    {
     "data": {
      "text/plain": [
       "907.1847399999999"
      ]
     },
     "execution_count": 35,
     "metadata": {},
     "output_type": "execute_result"
    }
   ],
   "source": [
    "constants.short_ton"
   ]
  },
  {
   "cell_type": "code",
   "execution_count": 36,
   "id": "75f67c90",
   "metadata": {},
   "outputs": [
    {
     "data": {
      "text/plain": [
       "0.031103476799999998"
      ]
     },
     "execution_count": 36,
     "metadata": {},
     "output_type": "execute_result"
    }
   ],
   "source": [
    "constants.troy_ounce"
   ]
  },
  {
   "cell_type": "code",
   "execution_count": 37,
   "id": "f8f992d8",
   "metadata": {},
   "outputs": [
    {
     "data": {
      "text/plain": [
       "0.37324172159999996"
      ]
     },
     "execution_count": 37,
     "metadata": {},
     "output_type": "execute_result"
    }
   ],
   "source": [
    "constants.troy_pound"
   ]
  },
  {
   "cell_type": "code",
   "execution_count": 38,
   "id": "055dcda4",
   "metadata": {},
   "outputs": [
    {
     "data": {
      "text/plain": [
       "0.0002"
      ]
     },
     "execution_count": 38,
     "metadata": {},
     "output_type": "execute_result"
    }
   ],
   "source": [
    "constants.carat"
   ]
  },
  {
   "cell_type": "code",
   "execution_count": 39,
   "id": "2c214271",
   "metadata": {},
   "outputs": [
    {
     "data": {
      "text/plain": [
       "1.6605390666e-27"
      ]
     },
     "execution_count": 39,
     "metadata": {},
     "output_type": "execute_result"
    }
   ],
   "source": [
    "constants.atomic_mass"
   ]
  },
  {
   "cell_type": "code",
   "execution_count": 40,
   "id": "28a5f781",
   "metadata": {},
   "outputs": [
    {
     "data": {
      "text/plain": [
       "1.6605390666e-27"
      ]
     },
     "execution_count": 40,
     "metadata": {},
     "output_type": "execute_result"
    }
   ],
   "source": [
    "constants.m_u"
   ]
  },
  {
   "cell_type": "code",
   "execution_count": 41,
   "id": "2036a54f",
   "metadata": {},
   "outputs": [
    {
     "data": {
      "text/plain": [
       "1.6605390666e-27"
      ]
     },
     "execution_count": 41,
     "metadata": {},
     "output_type": "execute_result"
    }
   ],
   "source": [
    "constants.u"
   ]
  },
  {
   "cell_type": "markdown",
   "id": "2ee14d6b",
   "metadata": {},
   "source": [
    "### Angle"
   ]
  },
  {
   "cell_type": "code",
   "execution_count": 42,
   "id": "f4dc9f14",
   "metadata": {},
   "outputs": [
    {
     "data": {
      "text/plain": [
       "0.017453292519943295"
      ]
     },
     "execution_count": 42,
     "metadata": {},
     "output_type": "execute_result"
    }
   ],
   "source": [
    "constants.degree"
   ]
  },
  {
   "cell_type": "code",
   "execution_count": 43,
   "id": "82f26561",
   "metadata": {},
   "outputs": [
    {
     "data": {
      "text/plain": [
       "0.0002908882086657216"
      ]
     },
     "execution_count": 43,
     "metadata": {},
     "output_type": "execute_result"
    }
   ],
   "source": [
    "constants.arcmin"
   ]
  },
  {
   "cell_type": "code",
   "execution_count": 44,
   "id": "c9261c1a",
   "metadata": {},
   "outputs": [
    {
     "data": {
      "text/plain": [
       "0.0002908882086657216"
      ]
     },
     "execution_count": 44,
     "metadata": {},
     "output_type": "execute_result"
    }
   ],
   "source": [
    "constants.arcminute"
   ]
  },
  {
   "cell_type": "code",
   "execution_count": 45,
   "id": "6e068d60",
   "metadata": {},
   "outputs": [
    {
     "data": {
      "text/plain": [
       "4.84813681109536e-06"
      ]
     },
     "execution_count": 45,
     "metadata": {},
     "output_type": "execute_result"
    }
   ],
   "source": [
    "constants.arcsec"
   ]
  },
  {
   "cell_type": "code",
   "execution_count": 46,
   "id": "bfab5a0c",
   "metadata": {},
   "outputs": [
    {
     "data": {
      "text/plain": [
       "4.84813681109536e-06"
      ]
     },
     "execution_count": 46,
     "metadata": {},
     "output_type": "execute_result"
    }
   ],
   "source": [
    "constants.arcsecond"
   ]
  },
  {
   "cell_type": "markdown",
   "id": "d978408a",
   "metadata": {},
   "source": [
    "### Time"
   ]
  },
  {
   "cell_type": "code",
   "execution_count": 47,
   "id": "eb02e109",
   "metadata": {},
   "outputs": [
    {
     "data": {
      "text/plain": [
       "60.0"
      ]
     },
     "execution_count": 47,
     "metadata": {},
     "output_type": "execute_result"
    }
   ],
   "source": [
    "constants.minute"
   ]
  },
  {
   "cell_type": "code",
   "execution_count": 48,
   "id": "30f9dbd6",
   "metadata": {},
   "outputs": [
    {
     "data": {
      "text/plain": [
       "3600.0"
      ]
     },
     "execution_count": 48,
     "metadata": {},
     "output_type": "execute_result"
    }
   ],
   "source": [
    "constants.hour"
   ]
  },
  {
   "cell_type": "code",
   "execution_count": 49,
   "id": "b13dff72",
   "metadata": {},
   "outputs": [
    {
     "data": {
      "text/plain": [
       "604800.0"
      ]
     },
     "execution_count": 49,
     "metadata": {},
     "output_type": "execute_result"
    }
   ],
   "source": [
    "constants.week"
   ]
  },
  {
   "cell_type": "code",
   "execution_count": 50,
   "id": "5b606547",
   "metadata": {},
   "outputs": [
    {
     "data": {
      "text/plain": [
       "86400.0"
      ]
     },
     "execution_count": 50,
     "metadata": {},
     "output_type": "execute_result"
    }
   ],
   "source": [
    "constants.day"
   ]
  },
  {
   "cell_type": "code",
   "execution_count": 51,
   "id": "bc71184c",
   "metadata": {},
   "outputs": [
    {
     "data": {
      "text/plain": [
       "31536000.0"
      ]
     },
     "execution_count": 51,
     "metadata": {},
     "output_type": "execute_result"
    }
   ],
   "source": [
    "constants.year"
   ]
  },
  {
   "cell_type": "code",
   "execution_count": 52,
   "id": "8b346470",
   "metadata": {},
   "outputs": [
    {
     "data": {
      "text/plain": [
       "31557600.0"
      ]
     },
     "execution_count": 52,
     "metadata": {},
     "output_type": "execute_result"
    }
   ],
   "source": [
    "constants.Julian_year"
   ]
  },
  {
   "cell_type": "markdown",
   "id": "e1f27d5e",
   "metadata": {},
   "source": [
    "### Length"
   ]
  },
  {
   "cell_type": "code",
   "execution_count": 53,
   "id": "7e6d4c72",
   "metadata": {},
   "outputs": [
    {
     "data": {
      "text/plain": [
       "0.0254"
      ]
     },
     "execution_count": 53,
     "metadata": {},
     "output_type": "execute_result"
    }
   ],
   "source": [
    "constants.inch"
   ]
  },
  {
   "cell_type": "code",
   "execution_count": 54,
   "id": "3d36a385",
   "metadata": {},
   "outputs": [
    {
     "data": {
      "text/plain": [
       "0.30479999999999996"
      ]
     },
     "execution_count": 54,
     "metadata": {},
     "output_type": "execute_result"
    }
   ],
   "source": [
    "constants.foot"
   ]
  },
  {
   "cell_type": "code",
   "execution_count": 55,
   "id": "7995f144",
   "metadata": {},
   "outputs": [
    {
     "data": {
      "text/plain": [
       "0.9143999999999999"
      ]
     },
     "execution_count": 55,
     "metadata": {},
     "output_type": "execute_result"
    }
   ],
   "source": [
    "constants.yard"
   ]
  },
  {
   "cell_type": "code",
   "execution_count": 56,
   "id": "da8d6fb6",
   "metadata": {},
   "outputs": [
    {
     "data": {
      "text/plain": [
       "1609.3439999999998"
      ]
     },
     "execution_count": 56,
     "metadata": {},
     "output_type": "execute_result"
    }
   ],
   "source": [
    "constants.mile"
   ]
  },
  {
   "cell_type": "code",
   "execution_count": 57,
   "id": "57c0bf47",
   "metadata": {},
   "outputs": [
    {
     "data": {
      "text/plain": [
       "2.5399999999999997e-05"
      ]
     },
     "execution_count": 57,
     "metadata": {},
     "output_type": "execute_result"
    }
   ],
   "source": [
    "constants.mil"
   ]
  },
  {
   "cell_type": "code",
   "execution_count": 58,
   "id": "07e24185",
   "metadata": {},
   "outputs": [
    {
     "data": {
      "text/plain": [
       "0.00035277777777777776"
      ]
     },
     "execution_count": 58,
     "metadata": {},
     "output_type": "execute_result"
    }
   ],
   "source": [
    "constants.pt"
   ]
  },
  {
   "cell_type": "code",
   "execution_count": 59,
   "id": "c3bf17d7",
   "metadata": {},
   "outputs": [
    {
     "data": {
      "text/plain": [
       "0.00035277777777777776"
      ]
     },
     "execution_count": 59,
     "metadata": {},
     "output_type": "execute_result"
    }
   ],
   "source": [
    "constants.point"
   ]
  },
  {
   "cell_type": "code",
   "execution_count": 60,
   "id": "45f3d6cb",
   "metadata": {},
   "outputs": [
    {
     "data": {
      "text/plain": [
       "0.3048006096012192"
      ]
     },
     "execution_count": 60,
     "metadata": {},
     "output_type": "execute_result"
    }
   ],
   "source": [
    "constants.survey_foot"
   ]
  },
  {
   "cell_type": "code",
   "execution_count": 61,
   "id": "d9c09ea4",
   "metadata": {},
   "outputs": [
    {
     "data": {
      "text/plain": [
       "1609.3472186944373"
      ]
     },
     "execution_count": 61,
     "metadata": {},
     "output_type": "execute_result"
    }
   ],
   "source": [
    "constants.survey_mile"
   ]
  },
  {
   "cell_type": "code",
   "execution_count": 62,
   "id": "2d950ad4",
   "metadata": {},
   "outputs": [
    {
     "data": {
      "text/plain": [
       "1852.0"
      ]
     },
     "execution_count": 62,
     "metadata": {},
     "output_type": "execute_result"
    }
   ],
   "source": [
    "constants.nautical_mile"
   ]
  },
  {
   "cell_type": "code",
   "execution_count": 63,
   "id": "9482abea",
   "metadata": {},
   "outputs": [
    {
     "data": {
      "text/plain": [
       "1e-15"
      ]
     },
     "execution_count": 63,
     "metadata": {},
     "output_type": "execute_result"
    }
   ],
   "source": [
    "constants.fermi"
   ]
  },
  {
   "cell_type": "code",
   "execution_count": 64,
   "id": "2a9131ba",
   "metadata": {},
   "outputs": [
    {
     "data": {
      "text/plain": [
       "1e-10"
      ]
     },
     "execution_count": 64,
     "metadata": {},
     "output_type": "execute_result"
    }
   ],
   "source": [
    "constants.angstrom"
   ]
  },
  {
   "cell_type": "code",
   "execution_count": 65,
   "id": "1acaf236",
   "metadata": {},
   "outputs": [
    {
     "data": {
      "text/plain": [
       "1e-06"
      ]
     },
     "execution_count": 65,
     "metadata": {},
     "output_type": "execute_result"
    }
   ],
   "source": [
    "constants.micron"
   ]
  },
  {
   "cell_type": "code",
   "execution_count": 66,
   "id": "191dc45c",
   "metadata": {},
   "outputs": [
    {
     "data": {
      "text/plain": [
       "149597870700.0"
      ]
     },
     "execution_count": 66,
     "metadata": {},
     "output_type": "execute_result"
    }
   ],
   "source": [
    "constants.au"
   ]
  },
  {
   "cell_type": "code",
   "execution_count": 67,
   "id": "b415511a",
   "metadata": {},
   "outputs": [
    {
     "data": {
      "text/plain": [
       "149597870700.0"
      ]
     },
     "execution_count": 67,
     "metadata": {},
     "output_type": "execute_result"
    }
   ],
   "source": [
    "constants.astronomical_unit"
   ]
  },
  {
   "cell_type": "code",
   "execution_count": 68,
   "id": "5820ca56",
   "metadata": {},
   "outputs": [
    {
     "data": {
      "text/plain": [
       "9460730472580800.0"
      ]
     },
     "execution_count": 68,
     "metadata": {},
     "output_type": "execute_result"
    }
   ],
   "source": [
    "constants.light_year"
   ]
  },
  {
   "cell_type": "code",
   "execution_count": 69,
   "id": "c02a65c2",
   "metadata": {},
   "outputs": [
    {
     "data": {
      "text/plain": [
       "3.085677581491367e+16"
      ]
     },
     "execution_count": 69,
     "metadata": {},
     "output_type": "execute_result"
    }
   ],
   "source": [
    "constants.parsec"
   ]
  },
  {
   "cell_type": "markdown",
   "id": "63405306",
   "metadata": {},
   "source": [
    "### Pressure"
   ]
  },
  {
   "cell_type": "code",
   "execution_count": 70,
   "id": "202cd907",
   "metadata": {},
   "outputs": [
    {
     "data": {
      "text/plain": [
       "101325.0"
      ]
     },
     "execution_count": 70,
     "metadata": {},
     "output_type": "execute_result"
    }
   ],
   "source": [
    "constants.atm"
   ]
  },
  {
   "cell_type": "code",
   "execution_count": 71,
   "id": "622883c3",
   "metadata": {},
   "outputs": [
    {
     "data": {
      "text/plain": [
       "101325.0"
      ]
     },
     "execution_count": 71,
     "metadata": {},
     "output_type": "execute_result"
    }
   ],
   "source": [
    "constants.atmosphere"
   ]
  },
  {
   "cell_type": "code",
   "execution_count": 72,
   "id": "4ef12840",
   "metadata": {},
   "outputs": [
    {
     "data": {
      "text/plain": [
       "100000.0"
      ]
     },
     "execution_count": 72,
     "metadata": {},
     "output_type": "execute_result"
    }
   ],
   "source": [
    "constants.bar"
   ]
  },
  {
   "cell_type": "code",
   "execution_count": 73,
   "id": "a795b416",
   "metadata": {},
   "outputs": [
    {
     "data": {
      "text/plain": [
       "133.32236842105263"
      ]
     },
     "execution_count": 73,
     "metadata": {},
     "output_type": "execute_result"
    }
   ],
   "source": [
    "constants.torr"
   ]
  },
  {
   "cell_type": "code",
   "execution_count": 74,
   "id": "70766bbe",
   "metadata": {},
   "outputs": [
    {
     "data": {
      "text/plain": [
       "133.32236842105263"
      ]
     },
     "execution_count": 74,
     "metadata": {},
     "output_type": "execute_result"
    }
   ],
   "source": [
    "constants.mmHg"
   ]
  },
  {
   "cell_type": "code",
   "execution_count": 75,
   "id": "69589023",
   "metadata": {},
   "outputs": [
    {
     "data": {
      "text/plain": [
       "6894.757293168361"
      ]
     },
     "execution_count": 75,
     "metadata": {},
     "output_type": "execute_result"
    }
   ],
   "source": [
    "constants.psi"
   ]
  },
  {
   "cell_type": "markdown",
   "id": "f666be36",
   "metadata": {},
   "source": [
    "### Area"
   ]
  },
  {
   "cell_type": "code",
   "execution_count": 76,
   "id": "6246a45b",
   "metadata": {},
   "outputs": [
    {
     "data": {
      "text/plain": [
       "4046.8564223999992"
      ]
     },
     "execution_count": 76,
     "metadata": {},
     "output_type": "execute_result"
    }
   ],
   "source": [
    "constants.acre"
   ]
  },
  {
   "cell_type": "code",
   "execution_count": 77,
   "id": "116323c9",
   "metadata": {},
   "outputs": [
    {
     "data": {
      "text/plain": [
       "10000.0"
      ]
     },
     "execution_count": 77,
     "metadata": {},
     "output_type": "execute_result"
    }
   ],
   "source": [
    "constants.hectare"
   ]
  },
  {
   "cell_type": "markdown",
   "id": "b6501dfd",
   "metadata": {},
   "source": [
    "### Volume"
   ]
  },
  {
   "cell_type": "code",
   "execution_count": 78,
   "id": "687243eb",
   "metadata": {},
   "outputs": [
    {
     "data": {
      "text/plain": [
       "0.001"
      ]
     },
     "execution_count": 78,
     "metadata": {},
     "output_type": "execute_result"
    }
   ],
   "source": [
    "constants.litre"
   ]
  },
  {
   "cell_type": "code",
   "execution_count": 79,
   "id": "2ce80b33",
   "metadata": {},
   "outputs": [
    {
     "data": {
      "text/plain": [
       "0.001"
      ]
     },
     "execution_count": 79,
     "metadata": {},
     "output_type": "execute_result"
    }
   ],
   "source": [
    "constants.liter"
   ]
  },
  {
   "cell_type": "code",
   "execution_count": 80,
   "id": "c7042c04",
   "metadata": {},
   "outputs": [
    {
     "data": {
      "text/plain": [
       "0.0037854117839999997"
      ]
     },
     "execution_count": 80,
     "metadata": {},
     "output_type": "execute_result"
    }
   ],
   "source": [
    "constants.gallon"
   ]
  },
  {
   "cell_type": "code",
   "execution_count": 81,
   "id": "c784f630",
   "metadata": {},
   "outputs": [
    {
     "data": {
      "text/plain": [
       "0.00454609"
      ]
     },
     "execution_count": 81,
     "metadata": {},
     "output_type": "execute_result"
    }
   ],
   "source": [
    "constants.gallon_imp"
   ]
  },
  {
   "cell_type": "code",
   "execution_count": 82,
   "id": "469f5dc5",
   "metadata": {},
   "outputs": [
    {
     "data": {
      "text/plain": [
       "0.0037854117839999997"
      ]
     },
     "execution_count": 82,
     "metadata": {},
     "output_type": "execute_result"
    }
   ],
   "source": [
    "constants.gallon_US"
   ]
  },
  {
   "cell_type": "code",
   "execution_count": 83,
   "id": "26cb5077",
   "metadata": {},
   "outputs": [
    {
     "data": {
      "text/plain": [
       "2.9573529562499998e-05"
      ]
     },
     "execution_count": 83,
     "metadata": {},
     "output_type": "execute_result"
    }
   ],
   "source": [
    "constants.fluid_ounce"
   ]
  },
  {
   "cell_type": "code",
   "execution_count": 84,
   "id": "dbc6ea9a",
   "metadata": {},
   "outputs": [
    {
     "data": {
      "text/plain": [
       "2.84130625e-05"
      ]
     },
     "execution_count": 84,
     "metadata": {},
     "output_type": "execute_result"
    }
   ],
   "source": [
    "constants.fluid_ounce_imp"
   ]
  },
  {
   "cell_type": "code",
   "execution_count": 85,
   "id": "9ebd19f7",
   "metadata": {},
   "outputs": [
    {
     "data": {
      "text/plain": [
       "2.9573529562499998e-05"
      ]
     },
     "execution_count": 85,
     "metadata": {},
     "output_type": "execute_result"
    }
   ],
   "source": [
    "constants.fluid_ounce_US"
   ]
  },
  {
   "cell_type": "code",
   "execution_count": 86,
   "id": "ee79cc45",
   "metadata": {},
   "outputs": [
    {
     "data": {
      "text/plain": [
       "0.15898729492799998"
      ]
     },
     "execution_count": 86,
     "metadata": {},
     "output_type": "execute_result"
    }
   ],
   "source": [
    "constants.barrel"
   ]
  },
  {
   "cell_type": "code",
   "execution_count": 87,
   "id": "6894f49f",
   "metadata": {},
   "outputs": [
    {
     "data": {
      "text/plain": [
       "0.15898729492799998"
      ]
     },
     "execution_count": 87,
     "metadata": {},
     "output_type": "execute_result"
    }
   ],
   "source": [
    "constants.bbl"
   ]
  },
  {
   "cell_type": "markdown",
   "id": "29fe99a9",
   "metadata": {},
   "source": [
    "### Speed"
   ]
  },
  {
   "cell_type": "code",
   "execution_count": 88,
   "id": "8ff8f9bb",
   "metadata": {},
   "outputs": [
    {
     "data": {
      "text/plain": [
       "0.2777777777777778"
      ]
     },
     "execution_count": 88,
     "metadata": {},
     "output_type": "execute_result"
    }
   ],
   "source": [
    "constants.kmh"
   ]
  },
  {
   "cell_type": "code",
   "execution_count": 89,
   "id": "93b620c6",
   "metadata": {},
   "outputs": [
    {
     "data": {
      "text/plain": [
       "0.44703999999999994"
      ]
     },
     "execution_count": 89,
     "metadata": {},
     "output_type": "execute_result"
    }
   ],
   "source": [
    "constants.mph"
   ]
  },
  {
   "cell_type": "code",
   "execution_count": 90,
   "id": "84ec2aa3",
   "metadata": {},
   "outputs": [
    {
     "data": {
      "text/plain": [
       "340.5"
      ]
     },
     "execution_count": 90,
     "metadata": {},
     "output_type": "execute_result"
    }
   ],
   "source": [
    "constants.mach"
   ]
  },
  {
   "cell_type": "code",
   "execution_count": 91,
   "id": "72785392",
   "metadata": {},
   "outputs": [
    {
     "data": {
      "text/plain": [
       "340.5"
      ]
     },
     "execution_count": 91,
     "metadata": {},
     "output_type": "execute_result"
    }
   ],
   "source": [
    "constants.speed_of_sound"
   ]
  },
  {
   "cell_type": "code",
   "execution_count": 92,
   "id": "4320f20f",
   "metadata": {},
   "outputs": [
    {
     "data": {
      "text/plain": [
       "299792458.0"
      ]
     },
     "execution_count": 92,
     "metadata": {},
     "output_type": "execute_result"
    }
   ],
   "source": [
    "constants.speed_of_light"
   ]
  },
  {
   "cell_type": "code",
   "execution_count": 93,
   "id": "ef57ed5f",
   "metadata": {},
   "outputs": [
    {
     "data": {
      "text/plain": [
       "0.5144444444444445"
      ]
     },
     "execution_count": 93,
     "metadata": {},
     "output_type": "execute_result"
    }
   ],
   "source": [
    "constants.knot"
   ]
  },
  {
   "cell_type": "markdown",
   "id": "fd20d7ec",
   "metadata": {},
   "source": [
    "### Temperature"
   ]
  },
  {
   "cell_type": "code",
   "execution_count": 94,
   "id": "580b39b5",
   "metadata": {},
   "outputs": [
    {
     "data": {
      "text/plain": [
       "0.5555555555555556"
      ]
     },
     "execution_count": 94,
     "metadata": {},
     "output_type": "execute_result"
    }
   ],
   "source": [
    "constants.degree_Fahrenheit"
   ]
  },
  {
   "cell_type": "code",
   "execution_count": 95,
   "id": "3bda3ebe",
   "metadata": {},
   "outputs": [
    {
     "data": {
      "text/plain": [
       "273.15"
      ]
     },
     "execution_count": 95,
     "metadata": {},
     "output_type": "execute_result"
    }
   ],
   "source": [
    "constants.zero_Celsius"
   ]
  },
  {
   "cell_type": "markdown",
   "id": "97f0de21",
   "metadata": {},
   "source": [
    "### Energy"
   ]
  },
  {
   "cell_type": "code",
   "execution_count": 97,
   "id": "07461720",
   "metadata": {},
   "outputs": [
    {
     "data": {
      "text/plain": [
       "1.602176634e-19"
      ]
     },
     "execution_count": 97,
     "metadata": {},
     "output_type": "execute_result"
    }
   ],
   "source": [
    "constants.eV"
   ]
  },
  {
   "cell_type": "code",
   "execution_count": 98,
   "id": "d5f6e161",
   "metadata": {},
   "outputs": [
    {
     "data": {
      "text/plain": [
       "1.602176634e-19"
      ]
     },
     "execution_count": 98,
     "metadata": {},
     "output_type": "execute_result"
    }
   ],
   "source": [
    "constants.electron_volt"
   ]
  },
  {
   "cell_type": "code",
   "execution_count": 99,
   "id": "613c374a",
   "metadata": {},
   "outputs": [
    {
     "data": {
      "text/plain": [
       "4.184"
      ]
     },
     "execution_count": 99,
     "metadata": {},
     "output_type": "execute_result"
    }
   ],
   "source": [
    "constants.calorie"
   ]
  },
  {
   "cell_type": "code",
   "execution_count": 100,
   "id": "172ee935",
   "metadata": {},
   "outputs": [
    {
     "data": {
      "text/plain": [
       "4.184"
      ]
     },
     "execution_count": 100,
     "metadata": {},
     "output_type": "execute_result"
    }
   ],
   "source": [
    "constants.calorie_th"
   ]
  },
  {
   "cell_type": "code",
   "execution_count": 101,
   "id": "fbf6a2cf",
   "metadata": {},
   "outputs": [
    {
     "data": {
      "text/plain": [
       "4.1868"
      ]
     },
     "execution_count": 101,
     "metadata": {},
     "output_type": "execute_result"
    }
   ],
   "source": [
    "constants.calorie_IT"
   ]
  },
  {
   "cell_type": "code",
   "execution_count": 102,
   "id": "79aa3c9b",
   "metadata": {},
   "outputs": [
    {
     "data": {
      "text/plain": [
       "1e-07"
      ]
     },
     "execution_count": 102,
     "metadata": {},
     "output_type": "execute_result"
    }
   ],
   "source": [
    "constants.erg"
   ]
  },
  {
   "cell_type": "code",
   "execution_count": 103,
   "id": "6391698d",
   "metadata": {},
   "outputs": [
    {
     "data": {
      "text/plain": [
       "1055.05585262"
      ]
     },
     "execution_count": 103,
     "metadata": {},
     "output_type": "execute_result"
    }
   ],
   "source": [
    "constants.Btu"
   ]
  },
  {
   "cell_type": "code",
   "execution_count": 104,
   "id": "d1c9fb71",
   "metadata": {},
   "outputs": [
    {
     "data": {
      "text/plain": [
       "1055.05585262"
      ]
     },
     "execution_count": 104,
     "metadata": {},
     "output_type": "execute_result"
    }
   ],
   "source": [
    "constants.Btu_IT"
   ]
  },
  {
   "cell_type": "code",
   "execution_count": 105,
   "id": "7d4a0a57",
   "metadata": {},
   "outputs": [
    {
     "data": {
      "text/plain": [
       "1054.3502644888888"
      ]
     },
     "execution_count": 105,
     "metadata": {},
     "output_type": "execute_result"
    }
   ],
   "source": [
    "constants.Btu_th"
   ]
  },
  {
   "cell_type": "code",
   "execution_count": 106,
   "id": "8943cce0",
   "metadata": {},
   "outputs": [
    {
     "data": {
      "text/plain": [
       "4184000000.0"
      ]
     },
     "execution_count": 106,
     "metadata": {},
     "output_type": "execute_result"
    }
   ],
   "source": [
    "constants.ton_TNT"
   ]
  },
  {
   "cell_type": "markdown",
   "id": "4f84c349",
   "metadata": {},
   "source": [
    "### Power"
   ]
  },
  {
   "cell_type": "code",
   "execution_count": 107,
   "id": "d31a7c8c",
   "metadata": {},
   "outputs": [
    {
     "data": {
      "text/plain": [
       "745.6998715822701"
      ]
     },
     "execution_count": 107,
     "metadata": {},
     "output_type": "execute_result"
    }
   ],
   "source": [
    "constants.hp"
   ]
  },
  {
   "cell_type": "code",
   "execution_count": 108,
   "id": "6e2c0578",
   "metadata": {},
   "outputs": [
    {
     "data": {
      "text/plain": [
       "745.6998715822701"
      ]
     },
     "execution_count": 108,
     "metadata": {},
     "output_type": "execute_result"
    }
   ],
   "source": [
    "constants.horsepower"
   ]
  },
  {
   "cell_type": "markdown",
   "id": "9ece71c4",
   "metadata": {},
   "source": [
    "### Force"
   ]
  },
  {
   "cell_type": "code",
   "execution_count": 109,
   "id": "d85087ef",
   "metadata": {},
   "outputs": [
    {
     "data": {
      "text/plain": [
       "1e-05"
      ]
     },
     "execution_count": 109,
     "metadata": {},
     "output_type": "execute_result"
    }
   ],
   "source": [
    "constants.dyn"
   ]
  },
  {
   "cell_type": "code",
   "execution_count": 110,
   "id": "71a3159d",
   "metadata": {},
   "outputs": [
    {
     "data": {
      "text/plain": [
       "1e-05"
      ]
     },
     "execution_count": 110,
     "metadata": {},
     "output_type": "execute_result"
    }
   ],
   "source": [
    "constants.dyne"
   ]
  },
  {
   "cell_type": "code",
   "execution_count": 111,
   "id": "fbc7053a",
   "metadata": {},
   "outputs": [
    {
     "data": {
      "text/plain": [
       "4.4482216152605"
      ]
     },
     "execution_count": 111,
     "metadata": {},
     "output_type": "execute_result"
    }
   ],
   "source": [
    "constants.lbf"
   ]
  },
  {
   "cell_type": "code",
   "execution_count": 112,
   "id": "c2978247",
   "metadata": {},
   "outputs": [
    {
     "data": {
      "text/plain": [
       "4.4482216152605"
      ]
     },
     "execution_count": 112,
     "metadata": {},
     "output_type": "execute_result"
    }
   ],
   "source": [
    "constants.pound_force"
   ]
  },
  {
   "cell_type": "code",
   "execution_count": 113,
   "id": "50854aee",
   "metadata": {},
   "outputs": [
    {
     "data": {
      "text/plain": [
       "9.80665"
      ]
     },
     "execution_count": 113,
     "metadata": {},
     "output_type": "execute_result"
    }
   ],
   "source": [
    "constants.kgf"
   ]
  },
  {
   "cell_type": "code",
   "execution_count": 114,
   "id": "da40e021",
   "metadata": {},
   "outputs": [
    {
     "data": {
      "text/plain": [
       "9.80665"
      ]
     },
     "execution_count": 114,
     "metadata": {},
     "output_type": "execute_result"
    }
   ],
   "source": [
    "constants.kilogram_force"
   ]
  },
  {
   "cell_type": "code",
   "execution_count": null,
   "id": "72e59441",
   "metadata": {},
   "outputs": [],
   "source": []
  }
 ],
 "metadata": {
  "kernelspec": {
   "display_name": "Python 3 (ipykernel)",
   "language": "python",
   "name": "python3"
  },
  "language_info": {
   "codemirror_mode": {
    "name": "ipython",
    "version": 3
   },
   "file_extension": ".py",
   "mimetype": "text/x-python",
   "name": "python",
   "nbconvert_exporter": "python",
   "pygments_lexer": "ipython3",
   "version": "3.9.13"
  }
 },
 "nbformat": 4,
 "nbformat_minor": 5
}
