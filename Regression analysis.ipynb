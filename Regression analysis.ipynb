{
 "cells": [
  {
   "cell_type": "code",
   "execution_count": 1,
   "id": "55838732",
   "metadata": {},
   "outputs": [],
   "source": [
    "import pandas as pd\n",
    "import seaborn as sns\n",
    "from scipy import stats\n",
    "import matplotlib.pyplot as plt\n",
    "import numpy as np"
   ]
  },
  {
   "cell_type": "markdown",
   "id": "12945838",
   "metadata": {},
   "source": [
    "### Simple linear regression"
   ]
  },
  {
   "cell_type": "code",
   "execution_count": 2,
   "id": "10864f3f",
   "metadata": {},
   "outputs": [],
   "source": [
    "x = [2,3,5,6,8,3,9,3,2,90]\n",
    "y = [9,2,90,65,27,28,15,3,5,19]"
   ]
  },
  {
   "cell_type": "code",
   "execution_count": 3,
   "id": "615405c3",
   "metadata": {},
   "outputs": [],
   "source": [
    "slope, intercept, r, p, std_error = stats.linregress(x,y)"
   ]
  },
  {
   "cell_type": "code",
   "execution_count": 4,
   "id": "e402e078",
   "metadata": {},
   "outputs": [],
   "source": [
    "def slop(x):\n",
    "    return slope*x+intercept"
   ]
  },
  {
   "cell_type": "code",
   "execution_count": 5,
   "id": "8c2447d7",
   "metadata": {},
   "outputs": [],
   "source": [
    "mymodel = list(map(slop,x))"
   ]
  },
  {
   "cell_type": "code",
   "execution_count": 6,
   "id": "d96b26e3",
   "metadata": {},
   "outputs": [
    {
     "data": {
      "text/plain": [
       "[26.999184893356883,\n",
       " 26.93619526332473,\n",
       " 26.81021600326043,\n",
       " 26.747226373228276,\n",
       " 26.621247113163975,\n",
       " 26.93619526332473,\n",
       " 26.558257483131822,\n",
       " 26.93619526332473,\n",
       " 26.999184893356883,\n",
       " 21.456097450527555]"
      ]
     },
     "execution_count": 6,
     "metadata": {},
     "output_type": "execute_result"
    }
   ],
   "source": [
    "mymodel"
   ]
  },
  {
   "cell_type": "code",
   "execution_count": 7,
   "id": "2ca16271",
   "metadata": {},
   "outputs": [
    {
     "data": {
      "image/png": "[encoded data removed]",
      "text/plain": [
       "<Figure size 640x480 with 1 Axes>"
      ]
     },
     "metadata": {},
     "output_type": "display_data"
    }
   ],
   "source": [
    "plt.scatter(x,y)\n",
    "plt.plot(x,mymodel)\n",
    "plt.show()"
   ]
  },
  {
   "cell_type": "code",
   "execution_count": 8,
   "id": "d2f3d8da",
   "metadata": {},
   "outputs": [
    {
     "data": {
      "text/plain": [
       "-0.0587093771853234"
      ]
     },
     "execution_count": 8,
     "metadata": {},
     "output_type": "execute_result"
    }
   ],
   "source": [
    "r"
   ]
  },
  {
   "cell_type": "code",
   "execution_count": 9,
   "id": "ffbd7245",
   "metadata": {},
   "outputs": [
    {
     "data": {
      "text/plain": [
       "0.37867517676263246"
      ]
     },
     "execution_count": 9,
     "metadata": {},
     "output_type": "execute_result"
    }
   ],
   "source": [
    "std_error"
   ]
  },
  {
   "cell_type": "code",
   "execution_count": 10,
   "id": "80177ef1",
   "metadata": {},
   "outputs": [
    {
     "data": {
      "text/plain": [
       "0.8720149829096124"
      ]
     },
     "execution_count": 10,
     "metadata": {},
     "output_type": "execute_result"
    }
   ],
   "source": [
    "p"
   ]
  },
  {
   "cell_type": "code",
   "execution_count": 11,
   "id": "5d11be33",
   "metadata": {},
   "outputs": [
    {
     "data": {
      "text/plain": [
       "23.534755241588552"
      ]
     },
     "execution_count": 11,
     "metadata": {},
     "output_type": "execute_result"
    }
   ],
   "source": [
    "slop(57)"
   ]
  },
  {
   "cell_type": "code",
   "execution_count": 12,
   "id": "a4b2deb4",
   "metadata": {},
   "outputs": [],
   "source": [
    "from pydataset import data"
   ]
  },
  {
   "cell_type": "code",
   "execution_count": 13,
   "id": "bbb87bc9",
   "metadata": {},
   "outputs": [
    {
     "data": {
      "text/html": [
       "<div>\n",
       "<style scoped>\n",
       "    .dataframe tbody tr th:only-of-type {\n",
       "        vertical-align: middle;\n",
       "    }\n",
       "\n",
       "    .dataframe tbody tr th {\n",
       "        vertical-align: top;\n",
       "    }\n",
       "\n",
       "    .dataframe thead th {\n",
       "        text-align: right;\n",
       "    }\n",
       "</style>\n",
       "<table border=\"1\" class=\"dataframe\">\n",
       "  <thead>\n",
       "    <tr style=\"text-align: right;\">\n",
       "      <th></th>\n",
       "      <th>dataset_id</th>\n",
       "      <th>title</th>\n",
       "    </tr>\n",
       "  </thead>\n",
       "  <tbody>\n",
       "    <tr>\n",
       "      <th>0</th>\n",
       "      <td>AirPassengers</td>\n",
       "      <td>Monthly Airline Passenger Numbers 1949-1960</td>\n",
       "    </tr>\n",
       "    <tr>\n",
       "      <th>1</th>\n",
       "      <td>BJsales</td>\n",
       "      <td>Sales Data with Leading Indicator</td>\n",
       "    </tr>\n",
       "    <tr>\n",
       "      <th>2</th>\n",
       "      <td>BOD</td>\n",
       "      <td>Biochemical Oxygen Demand</td>\n",
       "    </tr>\n",
       "    <tr>\n",
       "      <th>3</th>\n",
       "      <td>Formaldehyde</td>\n",
       "      <td>Determination of Formaldehyde</td>\n",
       "    </tr>\n",
       "    <tr>\n",
       "      <th>4</th>\n",
       "      <td>HairEyeColor</td>\n",
       "      <td>Hair and Eye Color of Statistics Students</td>\n",
       "    </tr>\n",
       "    <tr>\n",
       "      <th>...</th>\n",
       "      <td>...</td>\n",
       "      <td>...</td>\n",
       "    </tr>\n",
       "    <tr>\n",
       "      <th>752</th>\n",
       "      <td>VerbAgg</td>\n",
       "      <td>Verbal Aggression item responses</td>\n",
       "    </tr>\n",
       "    <tr>\n",
       "      <th>753</th>\n",
       "      <td>cake</td>\n",
       "      <td>Breakage Angle of Chocolate Cakes</td>\n",
       "    </tr>\n",
       "    <tr>\n",
       "      <th>754</th>\n",
       "      <td>cbpp</td>\n",
       "      <td>Contagious bovine pleuropneumonia</td>\n",
       "    </tr>\n",
       "    <tr>\n",
       "      <th>755</th>\n",
       "      <td>grouseticks</td>\n",
       "      <td>Data on red grouse ticks from Elston et al. 2001</td>\n",
       "    </tr>\n",
       "    <tr>\n",
       "      <th>756</th>\n",
       "      <td>sleepstudy</td>\n",
       "      <td>Reaction times in a sleep deprivation study</td>\n",
       "    </tr>\n",
       "  </tbody>\n",
       "</table>\n",
       "<p>757 rows × 2 columns</p>\n",
       "</div>"
      ],
      "text/plain": [
       "        dataset_id                                             title\n",
       "0    AirPassengers       Monthly Airline Passenger Numbers 1949-1960\n",
       "1          BJsales                 Sales Data with Leading Indicator\n",
       "2              BOD                         Biochemical Oxygen Demand\n",
       "3     Formaldehyde                     Determination of Formaldehyde\n",
       "4     HairEyeColor         Hair and Eye Color of Statistics Students\n",
       "..             ...                                               ...\n",
       "752        VerbAgg                  Verbal Aggression item responses\n",
       "753           cake                 Breakage Angle of Chocolate Cakes\n",
       "754           cbpp                 Contagious bovine pleuropneumonia\n",
       "755    grouseticks  Data on red grouse ticks from Elston et al. 2001\n",
       "756     sleepstudy       Reaction times in a sleep deprivation study\n",
       "\n",
       "[757 rows x 2 columns]"
      ]
     },
     "execution_count": 13,
     "metadata": {},
     "output_type": "execute_result"
    }
   ],
   "source": [
    "data()"
   ]
  },
  {
   "cell_type": "markdown",
   "id": "8f25853e",
   "metadata": {},
   "source": [
    "#### Cake dataset"
   ]
  },
  {
   "cell_type": "code",
   "execution_count": 14,
   "id": "4a3ef1f1",
   "metadata": {},
   "outputs": [
    {
     "data": {
      "text/html": [
       "<div>\n",
       "<style scoped>\n",
       "    .dataframe tbody tr th:only-of-type {\n",
       "        vertical-align: middle;\n",
       "    }\n",
       "\n",
       "    .dataframe tbody tr th {\n",
       "        vertical-align: top;\n",
       "    }\n",
       "\n",
       "    .dataframe thead th {\n",
       "        text-align: right;\n",
       "    }\n",
       "</style>\n",
       "<table border=\"1\" class=\"dataframe\">\n",
       "  <thead>\n",
       "    <tr style=\"text-align: right;\">\n",
       "      <th></th>\n",
       "      <th>replicate</th>\n",
       "      <th>recipe</th>\n",
       "      <th>temperature</th>\n",
       "      <th>angle</th>\n",
       "      <th>temp</th>\n",
       "    </tr>\n",
       "  </thead>\n",
       "  <tbody>\n",
       "    <tr>\n",
       "      <th>1</th>\n",
       "      <td>1</td>\n",
       "      <td>A</td>\n",
       "      <td>175</td>\n",
       "      <td>42</td>\n",
       "      <td>175</td>\n",
       "    </tr>\n",
       "    <tr>\n",
       "      <th>2</th>\n",
       "      <td>1</td>\n",
       "      <td>A</td>\n",
       "      <td>185</td>\n",
       "      <td>46</td>\n",
       "      <td>185</td>\n",
       "    </tr>\n",
       "    <tr>\n",
       "      <th>3</th>\n",
       "      <td>1</td>\n",
       "      <td>A</td>\n",
       "      <td>195</td>\n",
       "      <td>47</td>\n",
       "      <td>195</td>\n",
       "    </tr>\n",
       "    <tr>\n",
       "      <th>4</th>\n",
       "      <td>1</td>\n",
       "      <td>A</td>\n",
       "      <td>205</td>\n",
       "      <td>39</td>\n",
       "      <td>205</td>\n",
       "    </tr>\n",
       "    <tr>\n",
       "      <th>5</th>\n",
       "      <td>1</td>\n",
       "      <td>A</td>\n",
       "      <td>215</td>\n",
       "      <td>53</td>\n",
       "      <td>215</td>\n",
       "    </tr>\n",
       "  </tbody>\n",
       "</table>\n",
       "</div>"
      ],
      "text/plain": [
       "   replicate recipe  temperature  angle  temp\n",
       "1          1      A          175     42   175\n",
       "2          1      A          185     46   185\n",
       "3          1      A          195     47   195\n",
       "4          1      A          205     39   205\n",
       "5          1      A          215     53   215"
      ]
     },
     "execution_count": 14,
     "metadata": {},
     "output_type": "execute_result"
    }
   ],
   "source": [
    "cake_data = data('cake')\n",
    "cake_data.head()"
   ]
  },
  {
   "cell_type": "code",
   "execution_count": 15,
   "id": "12dd224b",
   "metadata": {},
   "outputs": [],
   "source": [
    "x= cake_data.temperature.values"
   ]
  },
  {
   "cell_type": "code",
   "execution_count": 16,
   "id": "780fff05",
   "metadata": {},
   "outputs": [
    {
     "data": {
      "text/plain": [
       "270"
      ]
     },
     "execution_count": 16,
     "metadata": {},
     "output_type": "execute_result"
    }
   ],
   "source": [
    "len(x)"
   ]
  },
  {
   "cell_type": "code",
   "execution_count": 17,
   "id": "850b0083",
   "metadata": {},
   "outputs": [],
   "source": [
    "y = cake_data.angle.values"
   ]
  },
  {
   "cell_type": "code",
   "execution_count": 18,
   "id": "de7ec838",
   "metadata": {},
   "outputs": [
    {
     "data": {
      "text/plain": [
       "270"
      ]
     },
     "execution_count": 18,
     "metadata": {},
     "output_type": "execute_result"
    }
   ],
   "source": [
    "len(y)"
   ]
  },
  {
   "cell_type": "code",
   "execution_count": 19,
   "id": "b4b15931",
   "metadata": {},
   "outputs": [],
   "source": [
    "slope,intercept,r,p,std_error = stats.linregress(x,y)"
   ]
  },
  {
   "cell_type": "code",
   "execution_count": 22,
   "id": "9a9948bf",
   "metadata": {},
   "outputs": [],
   "source": [
    "def slop(x):\n",
    "    return slope*x+intercept"
   ]
  },
  {
   "cell_type": "code",
   "execution_count": 23,
   "id": "321d7412",
   "metadata": {},
   "outputs": [],
   "source": [
    "my_model = list(map(slop,x))"
   ]
  },
  {
   "cell_type": "code",
   "execution_count": 26,
   "id": "4b9f3f80",
   "metadata": {},
   "outputs": [
    {
     "data": {
      "image/png": "[encoded data removed]",
      "text/plain": [
       "<Figure size 640x480 with 1 Axes>"
      ]
     },
     "metadata": {},
     "output_type": "display_data"
    }
   ],
   "source": [
    "plt.scatter(x,y)\n",
    "plt.plot(x,my_model)\n",
    "plt.show()"
   ]
  },
  {
   "cell_type": "code",
   "execution_count": 27,
   "id": "2b586edf",
   "metadata": {},
   "outputs": [
    {
     "data": {
      "text/plain": [
       "0.3292421798325423"
      ]
     },
     "execution_count": 27,
     "metadata": {},
     "output_type": "execute_result"
    }
   ],
   "source": [
    "r"
   ]
  },
  {
   "cell_type": "code",
   "execution_count": 28,
   "id": "ffd9a54b",
   "metadata": {},
   "outputs": [
    {
     "data": {
      "text/plain": [
       "3.0224496605433415e-08"
      ]
     },
     "execution_count": 28,
     "metadata": {},
     "output_type": "execute_result"
    }
   ],
   "source": [
    "p"
   ]
  },
  {
   "cell_type": "markdown",
   "id": "36ceb570",
   "metadata": {},
   "source": [
    "### Polynomial Regression"
   ]
  },
  {
   "cell_type": "code",
   "execution_count": 34,
   "id": "84b27c34",
   "metadata": {},
   "outputs": [],
   "source": [
    "x = [2,3,45,43,6,7,234,7,3,55,356,33,75]\n",
    "y = [456,65,35,677,33,699,332,67,89,33,99,22,676]"
   ]
  },
  {
   "cell_type": "code",
   "execution_count": 35,
   "id": "782d1019",
   "metadata": {},
   "outputs": [
    {
     "data": {
      "image/png": "[encoded data removed]",
      "text/plain": [
       "<Figure size 640x480 with 1 Axes>"
      ]
     },
     "metadata": {},
     "output_type": "display_data"
    }
   ],
   "source": [
    "plt.scatter(x,y)\n",
    "plt.show()"
   ]
  },
  {
   "cell_type": "code",
   "execution_count": 36,
   "id": "644d8cd1",
   "metadata": {},
   "outputs": [],
   "source": [
    "my_model = np.poly1d(np.polyfit(x,y,3))"
   ]
  },
  {
   "cell_type": "code",
   "execution_count": 37,
   "id": "d65ce33d",
   "metadata": {},
   "outputs": [],
   "source": [
    "my_line = np.linspace(1,370,100)"
   ]
  },
  {
   "cell_type": "code",
   "execution_count": 38,
   "id": "5e5c46bc",
   "metadata": {},
   "outputs": [
    {
     "data": {
      "image/png": "[encoded data removed]",
      "text/plain": [
       "<Figure size 640x480 with 1 Axes>"
      ]
     },
     "metadata": {},
     "output_type": "display_data"
    }
   ],
   "source": [
    "plt.plot(my_line,my_model(my_line))\n",
    "plt.show()"
   ]
  },
  {
   "cell_type": "code",
   "execution_count": 39,
   "id": "7a0fd178",
   "metadata": {},
   "outputs": [],
   "source": [
    "from sklearn.metrics import r2_score"
   ]
  },
  {
   "cell_type": "code",
   "execution_count": 40,
   "id": "d55c54e8",
   "metadata": {},
   "outputs": [
    {
     "data": {
      "text/plain": [
       "0.07494084780352228"
      ]
     },
     "execution_count": 40,
     "metadata": {},
     "output_type": "execute_result"
    }
   ],
   "source": [
    "r2_score(y,my_model(x))"
   ]
  },
  {
   "cell_type": "code",
   "execution_count": 43,
   "id": "aed9bd16",
   "metadata": {},
   "outputs": [
    {
     "data": {
      "text/plain": [
       "391.1986056596057"
      ]
     },
     "execution_count": 43,
     "metadata": {},
     "output_type": "execute_result"
    }
   ],
   "source": [
    " my_model(206.77)"
   ]
  },
  {
   "cell_type": "markdown",
   "id": "38ce6867",
   "metadata": {},
   "source": [
    "### Multiple Regression"
   ]
  },
  {
   "cell_type": "code",
   "execution_count": 45,
   "id": "19f4c6b2",
   "metadata": {},
   "outputs": [
    {
     "data": {
      "text/html": [
       "<div>\n",
       "<style scoped>\n",
       "    .dataframe tbody tr th:only-of-type {\n",
       "        vertical-align: middle;\n",
       "    }\n",
       "\n",
       "    .dataframe tbody tr th {\n",
       "        vertical-align: top;\n",
       "    }\n",
       "\n",
       "    .dataframe thead th {\n",
       "        text-align: right;\n",
       "    }\n",
       "</style>\n",
       "<table border=\"1\" class=\"dataframe\">\n",
       "  <thead>\n",
       "    <tr style=\"text-align: right;\">\n",
       "      <th></th>\n",
       "      <th>Car</th>\n",
       "      <th>Model</th>\n",
       "      <th>Volume</th>\n",
       "      <th>Weight</th>\n",
       "      <th>CO2</th>\n",
       "    </tr>\n",
       "  </thead>\n",
       "  <tbody>\n",
       "    <tr>\n",
       "      <th>0</th>\n",
       "      <td>Toyota</td>\n",
       "      <td>Aygo</td>\n",
       "      <td>1000</td>\n",
       "      <td>790</td>\n",
       "      <td>99</td>\n",
       "    </tr>\n",
       "    <tr>\n",
       "      <th>1</th>\n",
       "      <td>Mitsubishi</td>\n",
       "      <td>Space Star</td>\n",
       "      <td>1200</td>\n",
       "      <td>1160</td>\n",
       "      <td>95</td>\n",
       "    </tr>\n",
       "    <tr>\n",
       "      <th>2</th>\n",
       "      <td>Skoda</td>\n",
       "      <td>Citigo</td>\n",
       "      <td>1000</td>\n",
       "      <td>929</td>\n",
       "      <td>95</td>\n",
       "    </tr>\n",
       "    <tr>\n",
       "      <th>3</th>\n",
       "      <td>Fiat</td>\n",
       "      <td>500</td>\n",
       "      <td>900</td>\n",
       "      <td>865</td>\n",
       "      <td>90</td>\n",
       "    </tr>\n",
       "    <tr>\n",
       "      <th>4</th>\n",
       "      <td>Mini</td>\n",
       "      <td>Cooper</td>\n",
       "      <td>1500</td>\n",
       "      <td>1140</td>\n",
       "      <td>105</td>\n",
       "    </tr>\n",
       "  </tbody>\n",
       "</table>\n",
       "</div>"
      ],
      "text/plain": [
       "          Car       Model  Volume  Weight  CO2\n",
       "0      Toyota        Aygo    1000     790   99\n",
       "1  Mitsubishi  Space Star    1200    1160   95\n",
       "2       Skoda      Citigo    1000     929   95\n",
       "3        Fiat         500     900     865   90\n",
       "4        Mini      Cooper    1500    1140  105"
      ]
     },
     "execution_count": 45,
     "metadata": {},
     "output_type": "execute_result"
    }
   ],
   "source": [
    "data = pd.read_csv('./cars.csv')\n",
    "data.head()"
   ]
  },
  {
   "cell_type": "code",
   "execution_count": 49,
   "id": "9b7e9a18",
   "metadata": {},
   "outputs": [],
   "source": [
    "\n",
    "x = data.iloc[:,2:-1].values"
   ]
  },
  {
   "cell_type": "code",
   "execution_count": 50,
   "id": "373f7647",
   "metadata": {},
   "outputs": [],
   "source": [
    "y = data.iloc[:,-1].values"
   ]
  },
  {
   "cell_type": "code",
   "execution_count": 51,
   "id": "7294c208",
   "metadata": {},
   "outputs": [
    {
     "data": {
      "text/plain": [
       "array([[1000,  790],\n",
       "       [1200, 1160],\n",
       "       [1000,  929],\n",
       "       [ 900,  865],\n",
       "       [1500, 1140],\n",
       "       [1000,  929],\n",
       "       [1400, 1109],\n",
       "       [1500, 1365],\n",
       "       [1500, 1112],\n",
       "       [1600, 1150],\n",
       "       [1100,  980],\n",
       "       [1300,  990],\n",
       "       [1000, 1112],\n",
       "       [1600, 1252],\n",
       "       [1600, 1326],\n",
       "       [1600, 1330],\n",
       "       [1600, 1365],\n",
       "       [2200, 1280],\n",
       "       [1600, 1119],\n",
       "       [2000, 1328],\n",
       "       [1600, 1584],\n",
       "       [2000, 1428],\n",
       "       [2100, 1365],\n",
       "       [1600, 1415],\n",
       "       [2000, 1415],\n",
       "       [1500, 1465],\n",
       "       [2000, 1490],\n",
       "       [2000, 1725],\n",
       "       [1600, 1523],\n",
       "       [2000, 1705],\n",
       "       [2100, 1605],\n",
       "       [2000, 1746],\n",
       "       [1600, 1235],\n",
       "       [1600, 1390],\n",
       "       [1600, 1405],\n",
       "       [2500, 1395]], dtype=int64)"
      ]
     },
     "execution_count": 51,
     "metadata": {},
     "output_type": "execute_result"
    }
   ],
   "source": [
    "x"
   ]
  },
  {
   "cell_type": "code",
   "execution_count": 52,
   "id": "a7269700",
   "metadata": {},
   "outputs": [
    {
     "data": {
      "text/plain": [
       "array([ 99,  95,  95,  90, 105, 105,  90,  92,  98,  99,  99, 101,  99,\n",
       "        94,  97,  97,  99, 104, 104, 105,  94,  99,  99,  99,  99, 102,\n",
       "       104, 114, 109, 114, 115, 117, 104, 108, 109, 120], dtype=int64)"
      ]
     },
     "execution_count": 52,
     "metadata": {},
     "output_type": "execute_result"
    }
   ],
   "source": [
    "y"
   ]
  },
  {
   "cell_type": "markdown",
   "id": "c93e76ee",
   "metadata": {},
   "source": [
    "### MLR using statsmodels"
   ]
  },
  {
   "cell_type": "code",
   "execution_count": 53,
   "id": "3cbdc7aa",
   "metadata": {},
   "outputs": [],
   "source": [
    "import statsmodels.api as sm"
   ]
  },
  {
   "cell_type": "code",
   "execution_count": 54,
   "id": "11727007",
   "metadata": {},
   "outputs": [
    {
     "data": {
      "text/plain": [
       "array([[1.000e+00, 1.000e+03, 7.900e+02],\n",
       "       [1.000e+00, 1.200e+03, 1.160e+03],\n",
       "       [1.000e+00, 1.000e+03, 9.290e+02],\n",
       "       [1.000e+00, 9.000e+02, 8.650e+02],\n",
       "       [1.000e+00, 1.500e+03, 1.140e+03],\n",
       "       [1.000e+00, 1.000e+03, 9.290e+02],\n",
       "       [1.000e+00, 1.400e+03, 1.109e+03],\n",
       "       [1.000e+00, 1.500e+03, 1.365e+03],\n",
       "       [1.000e+00, 1.500e+03, 1.112e+03],\n",
       "       [1.000e+00, 1.600e+03, 1.150e+03],\n",
       "       [1.000e+00, 1.100e+03, 9.800e+02],\n",
       "       [1.000e+00, 1.300e+03, 9.900e+02],\n",
       "       [1.000e+00, 1.000e+03, 1.112e+03],\n",
       "       [1.000e+00, 1.600e+03, 1.252e+03],\n",
       "       [1.000e+00, 1.600e+03, 1.326e+03],\n",
       "       [1.000e+00, 1.600e+03, 1.330e+03],\n",
       "       [1.000e+00, 1.600e+03, 1.365e+03],\n",
       "       [1.000e+00, 2.200e+03, 1.280e+03],\n",
       "       [1.000e+00, 1.600e+03, 1.119e+03],\n",
       "       [1.000e+00, 2.000e+03, 1.328e+03],\n",
       "       [1.000e+00, 1.600e+03, 1.584e+03],\n",
       "       [1.000e+00, 2.000e+03, 1.428e+03],\n",
       "       [1.000e+00, 2.100e+03, 1.365e+03],\n",
       "       [1.000e+00, 1.600e+03, 1.415e+03],\n",
       "       [1.000e+00, 2.000e+03, 1.415e+03],\n",
       "       [1.000e+00, 1.500e+03, 1.465e+03],\n",
       "       [1.000e+00, 2.000e+03, 1.490e+03],\n",
       "       [1.000e+00, 2.000e+03, 1.725e+03],\n",
       "       [1.000e+00, 1.600e+03, 1.523e+03],\n",
       "       [1.000e+00, 2.000e+03, 1.705e+03],\n",
       "       [1.000e+00, 2.100e+03, 1.605e+03],\n",
       "       [1.000e+00, 2.000e+03, 1.746e+03],\n",
       "       [1.000e+00, 1.600e+03, 1.235e+03],\n",
       "       [1.000e+00, 1.600e+03, 1.390e+03],\n",
       "       [1.000e+00, 1.600e+03, 1.405e+03],\n",
       "       [1.000e+00, 2.500e+03, 1.395e+03]])"
      ]
     },
     "execution_count": 54,
     "metadata": {},
     "output_type": "execute_result"
    }
   ],
   "source": [
    "x_stat = sm.add_constant(x)\n",
    "x_stat"
   ]
  },
  {
   "cell_type": "code",
   "execution_count": 55,
   "id": "d422d8f8",
   "metadata": {},
   "outputs": [],
   "source": [
    "MLR = sm.OLS(y,x_stat).fit()"
   ]
  },
  {
   "cell_type": "code",
   "execution_count": 56,
   "id": "0639f437",
   "metadata": {},
   "outputs": [
    {
     "data": {
      "text/html": [
       "<table class=\"simpletable\">\n",
       "<caption>OLS Regression Results</caption>\n",
       "<tr>\n",
       "  <th>Dep. Variable:</th>            <td>y</td>        <th>  R-squared:         </th> <td>   0.377</td>\n",
       "</tr>\n",
       "<tr>\n",
       "  <th>Model:</th>                   <td>OLS</td>       <th>  Adj. R-squared:    </th> <td>   0.339</td>\n",
       "</tr>\n",
       "<tr>\n",
       "  <th>Method:</th>             <td>Least Squares</td>  <th>  F-statistic:       </th> <td>   9.966</td>\n",
       "</tr>\n",
       "<tr>\n",
       "  <th>Date:</th>             <td>Wed, 12 Jul 2023</td> <th>  Prob (F-statistic):</th> <td>0.000411</td>\n",
       "</tr>\n",
       "<tr>\n",
       "  <th>Time:</th>                 <td>10:00:01</td>     <th>  Log-Likelihood:    </th> <td> -114.39</td>\n",
       "</tr>\n",
       "<tr>\n",
       "  <th>No. Observations:</th>      <td>    36</td>      <th>  AIC:               </th> <td>   234.8</td>\n",
       "</tr>\n",
       "<tr>\n",
       "  <th>Df Residuals:</th>          <td>    33</td>      <th>  BIC:               </th> <td>   239.5</td>\n",
       "</tr>\n",
       "<tr>\n",
       "  <th>Df Model:</th>              <td>     2</td>      <th>                     </th>     <td> </td>   \n",
       "</tr>\n",
       "<tr>\n",
       "  <th>Covariance Type:</th>      <td>nonrobust</td>    <th>                     </th>     <td> </td>   \n",
       "</tr>\n",
       "</table>\n",
       "<table class=\"simpletable\">\n",
       "<tr>\n",
       "    <td></td>       <th>coef</th>     <th>std err</th>      <th>t</th>      <th>P>|t|</th>  <th>[0.025</th>    <th>0.975]</th>  \n",
       "</tr>\n",
       "<tr>\n",
       "  <th>const</th> <td>   79.6947</td> <td>    5.564</td> <td>   14.322</td> <td> 0.000</td> <td>   68.374</td> <td>   91.016</td>\n",
       "</tr>\n",
       "<tr>\n",
       "  <th>x1</th>    <td>    0.0078</td> <td>    0.004</td> <td>    1.948</td> <td> 0.060</td> <td>   -0.000</td> <td>    0.016</td>\n",
       "</tr>\n",
       "<tr>\n",
       "  <th>x2</th>    <td>    0.0076</td> <td>    0.006</td> <td>    1.173</td> <td> 0.249</td> <td>   -0.006</td> <td>    0.021</td>\n",
       "</tr>\n",
       "</table>\n",
       "<table class=\"simpletable\">\n",
       "<tr>\n",
       "  <th>Omnibus:</th>       <td> 4.957</td> <th>  Durbin-Watson:     </th> <td>   0.944</td>\n",
       "</tr>\n",
       "<tr>\n",
       "  <th>Prob(Omnibus):</th> <td> 0.084</td> <th>  Jarque-Bera (JB):  </th> <td>   1.836</td>\n",
       "</tr>\n",
       "<tr>\n",
       "  <th>Skew:</th>          <td>-0.025</td> <th>  Prob(JB):          </th> <td>   0.399</td>\n",
       "</tr>\n",
       "<tr>\n",
       "  <th>Kurtosis:</th>      <td> 1.895</td> <th>  Cond. No.          </th> <td>1.16e+04</td>\n",
       "</tr>\n",
       "</table><br/><br/>Notes:<br/>[1] Standard Errors assume that the covariance matrix of the errors is correctly specified.<br/>[2] The condition number is large, 1.16e+04. This might indicate that there are<br/>strong multicollinearity or other numerical problems."
      ],
      "text/plain": [
       "<class 'statsmodels.iolib.summary.Summary'>\n",
       "\"\"\"\n",
       "                            OLS Regression Results                            \n",
       "==============================================================================\n",
       "Dep. Variable:                      y   R-squared:                       0.377\n",
       "Model:                            OLS   Adj. R-squared:                  0.339\n",
       "Method:                 Least Squares   F-statistic:                     9.966\n",
       "Date:                Wed, 12 Jul 2023   Prob (F-statistic):           0.000411\n",
       "Time:                        10:00:01   Log-Likelihood:                -114.39\n",
       "No. Observations:                  36   AIC:                             234.8\n",
       "Df Residuals:                      33   BIC:                             239.5\n",
       "Df Model:                           2                                         \n",
       "Covariance Type:            nonrobust                                         \n",
       "==============================================================================\n",
       "                 coef    std err          t      P>|t|      [0.025      0.975]\n",
       "------------------------------------------------------------------------------\n",
       "const         79.6947      5.564     14.322      0.000      68.374      91.016\n",
       "x1             0.0078      0.004      1.948      0.060      -0.000       0.016\n",
       "x2             0.0076      0.006      1.173      0.249      -0.006       0.021\n",
       "==============================================================================\n",
       "Omnibus:                        4.957   Durbin-Watson:                   0.944\n",
       "Prob(Omnibus):                  0.084   Jarque-Bera (JB):                1.836\n",
       "Skew:                          -0.025   Prob(JB):                        0.399\n",
       "Kurtosis:                       1.895   Cond. No.                     1.16e+04\n",
       "==============================================================================\n",
       "\n",
       "Notes:\n",
       "[1] Standard Errors assume that the covariance matrix of the errors is correctly specified.\n",
       "[2] The condition number is large, 1.16e+04. This might indicate that there are\n",
       "strong multicollinearity or other numerical problems.\n",
       "\"\"\""
      ]
     },
     "execution_count": 56,
     "metadata": {},
     "output_type": "execute_result"
    }
   ],
   "source": [
    "MLR.summary()"
   ]
  },
  {
   "cell_type": "code",
   "execution_count": 57,
   "id": "8d4c43f9",
   "metadata": {},
   "outputs": [
    {
     "data": {
      "text/plain": [
       "array([ 93.46522516,  97.82012716,  94.51480683,  93.25102045,\n",
       "       100.01068547,  94.51480683,  98.99608035, 101.70964861,\n",
       "        99.79925895, 100.8667207 ,  95.6804309 ,  97.31699187,\n",
       "        95.89663018, 101.63691732, 102.19568742, 102.22589121,\n",
       "       102.49017436, 106.53149836, 100.63264133, 105.33289232,\n",
       "       104.14383181, 106.08798705, 106.39280312, 102.86772172,\n",
       "       105.98982473, 102.46474333, 106.55614578, 108.33061839,\n",
       "       103.68322403, 108.17959944, 108.20503047, 108.48918828,\n",
       "       101.50855121, 102.67894804, 102.79221225, 109.74143455])"
      ]
     },
     "execution_count": 57,
     "metadata": {},
     "output_type": "execute_result"
    }
   ],
   "source": [
    "MLR.predict(x_stat)"
   ]
  },
  {
   "cell_type": "markdown",
   "id": "ced17c1e",
   "metadata": {},
   "source": [
    "#### statsmodel.formula.api"
   ]
  },
  {
   "cell_type": "code",
   "execution_count": 58,
   "id": "e580295f",
   "metadata": {},
   "outputs": [],
   "source": [
    "import statsmodels.formula.api as smf"
   ]
  },
  {
   "cell_type": "code",
   "execution_count": 59,
   "id": "ae66ec16",
   "metadata": {},
   "outputs": [],
   "source": [
    "model_smf = smf.ols(formula='CO2 ~ Weight+Volume',data=data)"
   ]
  },
  {
   "cell_type": "code",
   "execution_count": 60,
   "id": "c9989faa",
   "metadata": {},
   "outputs": [],
   "source": [
    "result_smf = model_smf.fit()"
   ]
  },
  {
   "cell_type": "code",
   "execution_count": 61,
   "id": "f2eb1c56",
   "metadata": {},
   "outputs": [
    {
     "data": {
      "text/html": [
       "<table class=\"simpletable\">\n",
       "<caption>OLS Regression Results</caption>\n",
       "<tr>\n",
       "  <th>Dep. Variable:</th>           <td>CO2</td>       <th>  R-squared:         </th> <td>   0.377</td>\n",
       "</tr>\n",
       "<tr>\n",
       "  <th>Model:</th>                   <td>OLS</td>       <th>  Adj. R-squared:    </th> <td>   0.339</td>\n",
       "</tr>\n",
       "<tr>\n",
       "  <th>Method:</th>             <td>Least Squares</td>  <th>  F-statistic:       </th> <td>   9.966</td>\n",
       "</tr>\n",
       "<tr>\n",
       "  <th>Date:</th>             <td>Wed, 12 Jul 2023</td> <th>  Prob (F-statistic):</th> <td>0.000411</td>\n",
       "</tr>\n",
       "<tr>\n",
       "  <th>Time:</th>                 <td>10:09:40</td>     <th>  Log-Likelihood:    </th> <td> -114.39</td>\n",
       "</tr>\n",
       "<tr>\n",
       "  <th>No. Observations:</th>      <td>    36</td>      <th>  AIC:               </th> <td>   234.8</td>\n",
       "</tr>\n",
       "<tr>\n",
       "  <th>Df Residuals:</th>          <td>    33</td>      <th>  BIC:               </th> <td>   239.5</td>\n",
       "</tr>\n",
       "<tr>\n",
       "  <th>Df Model:</th>              <td>     2</td>      <th>                     </th>     <td> </td>   \n",
       "</tr>\n",
       "<tr>\n",
       "  <th>Covariance Type:</th>      <td>nonrobust</td>    <th>                     </th>     <td> </td>   \n",
       "</tr>\n",
       "</table>\n",
       "<table class=\"simpletable\">\n",
       "<tr>\n",
       "      <td></td>         <th>coef</th>     <th>std err</th>      <th>t</th>      <th>P>|t|</th>  <th>[0.025</th>    <th>0.975]</th>  \n",
       "</tr>\n",
       "<tr>\n",
       "  <th>Intercept</th> <td>   79.6947</td> <td>    5.564</td> <td>   14.322</td> <td> 0.000</td> <td>   68.374</td> <td>   91.016</td>\n",
       "</tr>\n",
       "<tr>\n",
       "  <th>Weight</th>    <td>    0.0076</td> <td>    0.006</td> <td>    1.173</td> <td> 0.249</td> <td>   -0.006</td> <td>    0.021</td>\n",
       "</tr>\n",
       "<tr>\n",
       "  <th>Volume</th>    <td>    0.0078</td> <td>    0.004</td> <td>    1.948</td> <td> 0.060</td> <td>   -0.000</td> <td>    0.016</td>\n",
       "</tr>\n",
       "</table>\n",
       "<table class=\"simpletable\">\n",
       "<tr>\n",
       "  <th>Omnibus:</th>       <td> 4.957</td> <th>  Durbin-Watson:     </th> <td>   0.944</td>\n",
       "</tr>\n",
       "<tr>\n",
       "  <th>Prob(Omnibus):</th> <td> 0.084</td> <th>  Jarque-Bera (JB):  </th> <td>   1.836</td>\n",
       "</tr>\n",
       "<tr>\n",
       "  <th>Skew:</th>          <td>-0.025</td> <th>  Prob(JB):          </th> <td>   0.399</td>\n",
       "</tr>\n",
       "<tr>\n",
       "  <th>Kurtosis:</th>      <td> 1.895</td> <th>  Cond. No.          </th> <td>1.16e+04</td>\n",
       "</tr>\n",
       "</table><br/><br/>Notes:<br/>[1] Standard Errors assume that the covariance matrix of the errors is correctly specified.<br/>[2] The condition number is large, 1.16e+04. This might indicate that there are<br/>strong multicollinearity or other numerical problems."
      ],
      "text/plain": [
       "<class 'statsmodels.iolib.summary.Summary'>\n",
       "\"\"\"\n",
       "                            OLS Regression Results                            \n",
       "==============================================================================\n",
       "Dep. Variable:                    CO2   R-squared:                       0.377\n",
       "Model:                            OLS   Adj. R-squared:                  0.339\n",
       "Method:                 Least Squares   F-statistic:                     9.966\n",
       "Date:                Wed, 12 Jul 2023   Prob (F-statistic):           0.000411\n",
       "Time:                        10:09:40   Log-Likelihood:                -114.39\n",
       "No. Observations:                  36   AIC:                             234.8\n",
       "Df Residuals:                      33   BIC:                             239.5\n",
       "Df Model:                           2                                         \n",
       "Covariance Type:            nonrobust                                         \n",
       "==============================================================================\n",
       "                 coef    std err          t      P>|t|      [0.025      0.975]\n",
       "------------------------------------------------------------------------------\n",
       "Intercept     79.6947      5.564     14.322      0.000      68.374      91.016\n",
       "Weight         0.0076      0.006      1.173      0.249      -0.006       0.021\n",
       "Volume         0.0078      0.004      1.948      0.060      -0.000       0.016\n",
       "==============================================================================\n",
       "Omnibus:                        4.957   Durbin-Watson:                   0.944\n",
       "Prob(Omnibus):                  0.084   Jarque-Bera (JB):                1.836\n",
       "Skew:                          -0.025   Prob(JB):                        0.399\n",
       "Kurtosis:                       1.895   Cond. No.                     1.16e+04\n",
       "==============================================================================\n",
       "\n",
       "Notes:\n",
       "[1] Standard Errors assume that the covariance matrix of the errors is correctly specified.\n",
       "[2] The condition number is large, 1.16e+04. This might indicate that there are\n",
       "strong multicollinearity or other numerical problems.\n",
       "\"\"\""
      ]
     },
     "execution_count": 61,
     "metadata": {},
     "output_type": "execute_result"
    }
   ],
   "source": [
    "result_smf.summary()"
   ]
  },
  {
   "cell_type": "code",
   "execution_count": 63,
   "id": "4766f252",
   "metadata": {},
   "outputs": [],
   "source": [
    "y_pred_sm = result_smf.predict(data[['Volume','Weight']])"
   ]
  },
  {
   "cell_type": "code",
   "execution_count": 64,
   "id": "0a5fe121",
   "metadata": {},
   "outputs": [
    {
     "data": {
      "text/plain": [
       "0      93.465225\n",
       "1      97.820127\n",
       "2      94.514807\n",
       "3      93.251020\n",
       "4     100.010685\n",
       "5      94.514807\n",
       "6      98.996080\n",
       "7     101.709649\n",
       "8      99.799259\n",
       "9     100.866721\n",
       "10     95.680431\n",
       "11     97.316992\n",
       "12     95.896630\n",
       "13    101.636917\n",
       "14    102.195687\n",
       "15    102.225891\n",
       "16    102.490174\n",
       "17    106.531498\n",
       "18    100.632641\n",
       "19    105.332892\n",
       "20    104.143832\n",
       "21    106.087987\n",
       "22    106.392803\n",
       "23    102.867722\n",
       "24    105.989825\n",
       "25    102.464743\n",
       "26    106.556146\n",
       "27    108.330618\n",
       "28    103.683224\n",
       "29    108.179599\n",
       "30    108.205030\n",
       "31    108.489188\n",
       "32    101.508551\n",
       "33    102.678948\n",
       "34    102.792212\n",
       "35    109.741435\n",
       "dtype: float64"
      ]
     },
     "execution_count": 64,
     "metadata": {},
     "output_type": "execute_result"
    }
   ],
   "source": [
    "y_pred_sm"
   ]
  },
  {
   "cell_type": "markdown",
   "id": "f5128d30",
   "metadata": {},
   "source": [
    "### Regression using Scikit-Learn"
   ]
  },
  {
   "cell_type": "code",
   "execution_count": 65,
   "id": "3450b989",
   "metadata": {},
   "outputs": [],
   "source": [
    "from sklearn.linear_model import LinearRegression"
   ]
  },
  {
   "cell_type": "code",
   "execution_count": 66,
   "id": "f6f74137",
   "metadata": {},
   "outputs": [],
   "source": [
    "LR = LinearRegression()"
   ]
  },
  {
   "cell_type": "code",
   "execution_count": 67,
   "id": "949aaa31",
   "metadata": {},
   "outputs": [
    {
     "data": {
      "text/html": [
       "<style>#sk-container-id-1 {color: black;background-color: white;}#sk-container-id-1 pre{padding: 0;}#sk-container-id-1 div.sk-toggleable {background-color: white;}#sk-container-id-1 label.sk-toggleable__label {cursor: pointer;display: block;width: 100%;margin-bottom: 0;padding: 0.3em;box-sizing: border-box;text-align: center;}#sk-container-id-1 label.sk-toggleable__label-arrow:before {content: \"▸\";float: left;margin-right: 0.25em;color: #696969;}#sk-container-id-1 label.sk-toggleable__label-arrow:hover:before {color: black;}#sk-container-id-1 div.sk-estimator:hover label.sk-toggleable__label-arrow:before {color: black;}#sk-container-id-1 div.sk-toggleable__content {max-height: 0;max-width: 0;overflow: hidden;text-align: left;background-color: #f0f8ff;}#sk-container-id-1 div.sk-toggleable__content pre {margin: 0.2em;color: black;border-radius: 0.25em;background-color: #f0f8ff;}#sk-container-id-1 input.sk-toggleable__control:checked~div.sk-toggleable__content {max-height: 200px;max-width: 100%;overflow: auto;}#sk-container-id-1 input.sk-toggleable__control:checked~label.sk-toggleable__label-arrow:before {content: \"▾\";}#sk-container-id-1 div.sk-estimator input.sk-toggleable__control:checked~label.sk-toggleable__label {background-color: #d4ebff;}#sk-container-id-1 div.sk-label input.sk-toggleable__control:checked~label.sk-toggleable__label {background-color: #d4ebff;}#sk-container-id-1 input.sk-hidden--visually {border: 0;clip: rect(1px 1px 1px 1px);clip: rect(1px, 1px, 1px, 1px);height: 1px;margin: -1px;overflow: hidden;padding: 0;position: absolute;width: 1px;}#sk-container-id-1 div.sk-estimator {font-family: monospace;background-color: #f0f8ff;border: 1px dotted black;border-radius: 0.25em;box-sizing: border-box;margin-bottom: 0.5em;}#sk-container-id-1 div.sk-estimator:hover {background-color: #d4ebff;}#sk-container-id-1 div.sk-parallel-item::after {content: \"\";width: 100%;border-bottom: 1px solid gray;flex-grow: 1;}#sk-container-id-1 div.sk-label:hover label.sk-toggleable__label {background-color: #d4ebff;}#sk-container-id-1 div.sk-serial::before {content: \"\";position: absolute;border-left: 1px solid gray;box-sizing: border-box;top: 0;bottom: 0;left: 50%;z-index: 0;}#sk-container-id-1 div.sk-serial {display: flex;flex-direction: column;align-items: center;background-color: white;padding-right: 0.2em;padding-left: 0.2em;position: relative;}#sk-container-id-1 div.sk-item {position: relative;z-index: 1;}#sk-container-id-1 div.sk-parallel {display: flex;align-items: stretch;justify-content: center;background-color: white;position: relative;}#sk-container-id-1 div.sk-item::before, #sk-container-id-1 div.sk-parallel-item::before {content: \"\";position: absolute;border-left: 1px solid gray;box-sizing: border-box;top: 0;bottom: 0;left: 50%;z-index: -1;}#sk-container-id-1 div.sk-parallel-item {display: flex;flex-direction: column;z-index: 1;position: relative;background-color: white;}#sk-container-id-1 div.sk-parallel-item:first-child::after {align-self: flex-end;width: 50%;}#sk-container-id-1 div.sk-parallel-item:last-child::after {align-self: flex-start;width: 50%;}#sk-container-id-1 div.sk-parallel-item:only-child::after {width: 0;}#sk-container-id-1 div.sk-dashed-wrapped {border: 1px dashed gray;margin: 0 0.4em 0.5em 0.4em;box-sizing: border-box;padding-bottom: 0.4em;background-color: white;}#sk-container-id-1 div.sk-label label {font-family: monospace;font-weight: bold;display: inline-block;line-height: 1.2em;}#sk-container-id-1 div.sk-label-container {text-align: center;}#sk-container-id-1 div.sk-container {/* jupyter's `normalize.less` sets `[hidden] { display: none; }` but bootstrap.min.css set `[hidden] { display: none !important; }` so we also need the `!important` here to be able to override the default hidden behavior on the sphinx rendered scikit-learn.org. See: https://github.com/scikit-learn/scikit-learn/issues/21755 */display: inline-block !important;position: relative;}#sk-container-id-1 div.sk-text-repr-fallback {display: none;}</style><div id=\"sk-container-id-1\" class=\"sk-top-container\"><div class=\"sk-text-repr-fallback\"><pre>LinearRegression()</pre><b>In a Jupyter environment, please rerun this cell to show the HTML representation or trust the notebook. <br />On GitHub, the HTML representation is unable to render, please try loading this page with nbviewer.org.</b></div><div class=\"sk-container\" hidden><div class=\"sk-item\"><div class=\"sk-estimator sk-toggleable\"><input class=\"sk-toggleable__control sk-hidden--visually\" id=\"sk-estimator-id-1\" type=\"checkbox\" checked><label for=\"sk-estimator-id-1\" class=\"sk-toggleable__label sk-toggleable__label-arrow\">LinearRegression</label><div class=\"sk-toggleable__content\"><pre>LinearRegression()</pre></div></div></div></div></div>"
      ],
      "text/plain": [
       "LinearRegression()"
      ]
     },
     "execution_count": 67,
     "metadata": {},
     "output_type": "execute_result"
    }
   ],
   "source": [
    "LR.fit(x,y)"
   ]
  },
  {
   "cell_type": "code",
   "execution_count": 68,
   "id": "eaf0b830",
   "metadata": {},
   "outputs": [
    {
     "data": {
      "text/plain": [
       "array([0.00780526, 0.00755095])"
      ]
     },
     "execution_count": 68,
     "metadata": {},
     "output_type": "execute_result"
    }
   ],
   "source": [
    "LR.coef_"
   ]
  },
  {
   "cell_type": "code",
   "execution_count": 69,
   "id": "efc3f8fa",
   "metadata": {},
   "outputs": [
    {
     "data": {
      "text/plain": [
       "79.6947192911594"
      ]
     },
     "execution_count": 69,
     "metadata": {},
     "output_type": "execute_result"
    }
   ],
   "source": [
    "LR.intercept_"
   ]
  },
  {
   "cell_type": "code",
   "execution_count": 70,
   "id": "acac8dfc",
   "metadata": {},
   "outputs": [
    {
     "data": {
      "text/plain": [
       "0.3765564043619989"
      ]
     },
     "execution_count": 70,
     "metadata": {},
     "output_type": "execute_result"
    }
   ],
   "source": [
    "LR.score(x,y)"
   ]
  },
  {
   "cell_type": "code",
   "execution_count": 71,
   "id": "91c1b150",
   "metadata": {},
   "outputs": [
    {
     "data": {
      "text/plain": [
       "array([93.46522516])"
      ]
     },
     "execution_count": 71,
     "metadata": {},
     "output_type": "execute_result"
    }
   ],
   "source": [
    "sample_prediction = LR.predict([[1000,790]])\n",
    "sample_prediction"
   ]
  },
  {
   "cell_type": "code",
   "execution_count": 73,
   "id": "db25b833",
   "metadata": {},
   "outputs": [
    {
     "data": {
      "text/plain": [
       "array([ 93.46522516,  97.82012716,  94.51480683,  93.25102045,\n",
       "       100.01068547,  94.51480683,  98.99608035, 101.70964861,\n",
       "        99.79925895, 100.8667207 ,  95.6804309 ,  97.31699187,\n",
       "        95.89663018, 101.63691732, 102.19568742, 102.22589121,\n",
       "       102.49017436, 106.53149836, 100.63264133, 105.33289232,\n",
       "       104.14383181, 106.08798705, 106.39280312, 102.86772172,\n",
       "       105.98982473, 102.46474333, 106.55614578, 108.33061839,\n",
       "       103.68322403, 108.17959944, 108.20503047, 108.48918828,\n",
       "       101.50855121, 102.67894804, 102.79221225, 109.74143455])"
      ]
     },
     "execution_count": 73,
     "metadata": {},
     "output_type": "execute_result"
    }
   ],
   "source": [
    "y_pred = LR.predict(x)\n",
    "y_pred"
   ]
  },
  {
   "cell_type": "code",
   "execution_count": 74,
   "id": "863e70e5",
   "metadata": {},
   "outputs": [
    {
     "data": {
      "text/plain": [
       "0.3765564043619989"
      ]
     },
     "execution_count": 74,
     "metadata": {},
     "output_type": "execute_result"
    }
   ],
   "source": [
    "r2_score(y,y_pred)"
   ]
  },
  {
   "cell_type": "code",
   "execution_count": null,
   "id": "c656651a",
   "metadata": {},
   "outputs": [],
   "source": []
  }
 ],
 "metadata": {
  "kernelspec": {
   "display_name": "Python 3 (ipykernel)",
   "language": "python",
   "name": "python3"
  },
  "language_info": {
   "codemirror_mode": {
    "name": "ipython",
    "version": 3
   },
   "file_extension": ".py",
   "mimetype": "text/x-python",
   "name": "python",
   "nbconvert_exporter": "python",
   "pygments_lexer": "ipython3",
   "version": "3.9.13"
  }
 },
 "nbformat": 4,
 "nbformat_minor": 5
}
